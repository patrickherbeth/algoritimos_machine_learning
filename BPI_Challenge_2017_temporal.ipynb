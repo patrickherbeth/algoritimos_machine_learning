{
  "nbformat": 4,
  "nbformat_minor": 0,
  "metadata": {
    "colab": {
      "name": "BPI_Challenge_2017_temporal.ipynb",
      "provenance": [],
      "collapsed_sections": [],
      "toc_visible": true,
      "include_colab_link": true
    },
    "kernelspec": {
      "name": "python3",
      "display_name": "Python 3"
    }
  },
  "cells": [
    {
      "cell_type": "markdown",
      "metadata": {
        "id": "view-in-github",
        "colab_type": "text"
      },
      "source": [
        "<a href=\"https://colab.research.google.com/github/patrickherbeth/algoritimos_machine_learning/blob/master/BPI_Challenge_2017_temporal.ipynb\" target=\"_parent\"><img src=\"https://colab.research.google.com/assets/colab-badge.svg\" alt=\"Open In Colab\"/></a>"
      ]
    },
    {
      "cell_type": "markdown",
      "metadata": {
        "id": "bp9rDMTXnslg",
        "colab_type": "text"
      },
      "source": [
        "# About the dataset\n",
        "\n",
        "---\n",
        "\n",
        "\n",
        "This event log belongs to a Dutch financial institute loan application process. The data includes all orders filed in an online system in 2016 and its subsequent events until February 1, 2017, 3:11 pm. The company providing the data and the process under consideration is the same as doi: 10.4121 / uuid: 3926db30-f712-4394-aebc-75976070e91f. However, the process support system has changed in the meantime. In particular, the system now allows multiple offers per application. These offers can be tracked using their IDs in the log."
      ]
    },
    {
      "cell_type": "markdown",
      "metadata": {
        "id": "DKuIujYbn-gi",
        "colab_type": "text"
      },
      "source": [
        "The data is provided in two files:\n",
        "\n",
        "The application event log. This event log contains all events with the application as the case ID. Any event related to an offer also refers to an OfferID.\n",
        "\n",
        "The offer event log. This event log contains all events related to offers, with those offers as a case ID. For each offer, a corresponding application is available."
      ]
    },
    {
      "cell_type": "markdown",
      "metadata": {
        "id": "lJ2EzcVOoIbl",
        "colab_type": "text"
      },
      "source": [
        "#Analyze and Pre-Processing\n",
        "\n",
        "### Through this analysis we intend to find out which months and periods there was the greatest number of completed applications.\n",
        "\n",
        "**Importing libraries**"
      ]
    },
    {
      "cell_type": "code",
      "metadata": {
        "id": "fKoKaDZjohiF",
        "colab_type": "code",
        "colab": {
          "base_uri": "https://localhost:8080/",
          "height": 70
        },
        "outputId": "eb67feec-d575-4158-9af6-4c89ebfe2335"
      },
      "source": [
        "import pandas as pd\n",
        "import numpy as np\n",
        "import matplotlib.pyplot as plt\n",
        "import seaborn as sns\n",
        "import calendar\n",
        "import re\n",
        "import datetime\n",
        "import matplotlib.pyplot as plt\n",
        "\n",
        "from google.colab import drive\n",
        "from sklearn.model_selection import train_test_split \n",
        "from sklearn.linear_model import LinearRegression\n",
        "from sklearn.preprocessing import OneHotEncoder\n",
        "from sklearn import metrics\n",
        "from datetime import timedelta\n",
        "from matplotlib import pyplot\n",
        "from sklearn.ensemble import RandomForestClassifier\n",
        "from sklearn.metrics import confusion_matrix\n",
        "from sklearn.metrics import precision_score\n",
        "from sklearn.metrics import precision_recall_curve\n",
        "from sklearn.metrics import plot_precision_recall_curve\n",
        "from sklearn.metrics import recall_score\n",
        "from sklearn.metrics import average_precision_score\n",
        "from sklearn.metrics import confusion_matrix\n",
        "from sklearn.linear_model import LogisticRegression\n",
        "from sklearn.tree import DecisionTreeClassifier\n",
        "from sklearn.neighbors import KNeighborsClassifier\n",
        "from sklearn.ensemble import RandomForestClassifier\n",
        "from sklearn.discriminant_analysis import LinearDiscriminantAnalysis\n",
        "from sklearn.naive_bayes import GaussianNB\n",
        "\n",
        "%matplotlib inline"
      ],
      "execution_count": 1,
      "outputs": [
        {
          "output_type": "stream",
          "text": [
            "/usr/local/lib/python3.6/dist-packages/statsmodels/tools/_testing.py:19: FutureWarning: pandas.util.testing is deprecated. Use the functions in the public API at pandas.testing instead.\n",
            "  import pandas.util.testing as tm\n"
          ],
          "name": "stderr"
        }
      ]
    },
    {
      "cell_type": "markdown",
      "metadata": {
        "id": "KMcK2ufspNlo",
        "colab_type": "text"
      },
      "source": [
        "**Importing application event log data**"
      ]
    },
    {
      "cell_type": "code",
      "metadata": {
        "id": "FnoGRBfopUUJ",
        "colab_type": "code",
        "colab": {}
      },
      "source": [
        "application_df = pd.read_csv('BPI_Challenge_2017.csv')"
      ],
      "execution_count": 2,
      "outputs": []
    },
    {
      "cell_type": "code",
      "metadata": {
        "id": "-sQ25KyFML42",
        "colab_type": "code",
        "colab": {
          "base_uri": "https://localhost:8080/",
          "height": 115
        },
        "outputId": "d36a9a89-3149-4c33-f968-1c1cb2669d6e"
      },
      "source": [
        "application_df.columns.values"
      ],
      "execution_count": 3,
      "outputs": [
        {
          "output_type": "execute_result",
          "data": {
            "text/plain": [
              "array(['Action', 'org:resource', 'concept:name', 'EventOrigin', 'EventID',\n",
              "       'lifecycle:transition', 'time:timestamp', 'case:LoanGoal',\n",
              "       'case:ApplicationType', 'case:concept:name',\n",
              "       'case:RequestedAmount', 'FirstWithdrawalAmount', 'NumberOfTerms',\n",
              "       'Accepted', 'MonthlyCost', 'Selected', 'CreditScore',\n",
              "       'OfferedAmount', 'OfferID'], dtype=object)"
            ]
          },
          "metadata": {
            "tags": []
          },
          "execution_count": 3
        }
      ]
    },
    {
      "cell_type": "code",
      "metadata": {
        "id": "IfdhSZuJMRxb",
        "colab_type": "code",
        "colab": {
          "base_uri": "https://localhost:8080/",
          "height": 326
        },
        "outputId": "179f724b-34c8-47bd-e809-0d63ebac7477"
      },
      "source": [
        "fix_cols_names = lambda x: re.sub( '(?<!^)(?=[A-Z])', '_', x.replace('ID','Id')).lower().replace(':','_').replace('__','_')\n",
        "fixed_app_cols = [fix_cols_names(col) for col in application_df.columns]\n",
        "fixed_app_cols"
      ],
      "execution_count": 4,
      "outputs": [
        {
          "output_type": "execute_result",
          "data": {
            "text/plain": [
              "['action',\n",
              " 'org_resource',\n",
              " 'concept_name',\n",
              " 'event_origin',\n",
              " 'event_id',\n",
              " 'lifecycle_transition',\n",
              " 'time_timestamp',\n",
              " 'case_loan_goal',\n",
              " 'case_application_type',\n",
              " 'case_concept_name',\n",
              " 'case_requested_amount',\n",
              " 'first_withdrawal_amount',\n",
              " 'number_of_terms',\n",
              " 'accepted',\n",
              " 'monthly_cost',\n",
              " 'selected',\n",
              " 'credit_score',\n",
              " 'offered_amount',\n",
              " 'offer_id']"
            ]
          },
          "metadata": {
            "tags": []
          },
          "execution_count": 4
        }
      ]
    },
    {
      "cell_type": "code",
      "metadata": {
        "id": "XEr5dIE4Mdod",
        "colab_type": "code",
        "colab": {
          "base_uri": "https://localhost:8080/",
          "height": 292
        },
        "outputId": "0f4b9448-e2ab-4126-a7cc-fad1452e5521"
      },
      "source": [
        "application_df.columns = fixed_app_cols\n",
        "application_df.head()"
      ],
      "execution_count": 5,
      "outputs": [
        {
          "output_type": "execute_result",
          "data": {
            "text/html": [
              "<div>\n",
              "<style scoped>\n",
              "    .dataframe tbody tr th:only-of-type {\n",
              "        vertical-align: middle;\n",
              "    }\n",
              "\n",
              "    .dataframe tbody tr th {\n",
              "        vertical-align: top;\n",
              "    }\n",
              "\n",
              "    .dataframe thead th {\n",
              "        text-align: right;\n",
              "    }\n",
              "</style>\n",
              "<table border=\"1\" class=\"dataframe\">\n",
              "  <thead>\n",
              "    <tr style=\"text-align: right;\">\n",
              "      <th></th>\n",
              "      <th>action</th>\n",
              "      <th>org_resource</th>\n",
              "      <th>concept_name</th>\n",
              "      <th>event_origin</th>\n",
              "      <th>event_id</th>\n",
              "      <th>lifecycle_transition</th>\n",
              "      <th>time_timestamp</th>\n",
              "      <th>case_loan_goal</th>\n",
              "      <th>case_application_type</th>\n",
              "      <th>case_concept_name</th>\n",
              "      <th>case_requested_amount</th>\n",
              "      <th>first_withdrawal_amount</th>\n",
              "      <th>number_of_terms</th>\n",
              "      <th>accepted</th>\n",
              "      <th>monthly_cost</th>\n",
              "      <th>selected</th>\n",
              "      <th>credit_score</th>\n",
              "      <th>offered_amount</th>\n",
              "      <th>offer_id</th>\n",
              "    </tr>\n",
              "  </thead>\n",
              "  <tbody>\n",
              "    <tr>\n",
              "      <th>0</th>\n",
              "      <td>Created</td>\n",
              "      <td>User_1</td>\n",
              "      <td>A_Create Application</td>\n",
              "      <td>Application</td>\n",
              "      <td>Application_652823628</td>\n",
              "      <td>complete</td>\n",
              "      <td>2016-01-01 09:51:15.304000+00:00</td>\n",
              "      <td>Existing loan takeover</td>\n",
              "      <td>New credit</td>\n",
              "      <td>Application_652823628</td>\n",
              "      <td>20000.0</td>\n",
              "      <td>NaN</td>\n",
              "      <td>NaN</td>\n",
              "      <td>NaN</td>\n",
              "      <td>NaN</td>\n",
              "      <td>NaN</td>\n",
              "      <td>NaN</td>\n",
              "      <td>NaN</td>\n",
              "      <td>NaN</td>\n",
              "    </tr>\n",
              "    <tr>\n",
              "      <th>1</th>\n",
              "      <td>statechange</td>\n",
              "      <td>User_1</td>\n",
              "      <td>A_Submitted</td>\n",
              "      <td>Application</td>\n",
              "      <td>ApplState_1582051990</td>\n",
              "      <td>complete</td>\n",
              "      <td>2016-01-01 09:51:15.352000+00:00</td>\n",
              "      <td>Existing loan takeover</td>\n",
              "      <td>New credit</td>\n",
              "      <td>Application_652823628</td>\n",
              "      <td>20000.0</td>\n",
              "      <td>NaN</td>\n",
              "      <td>NaN</td>\n",
              "      <td>NaN</td>\n",
              "      <td>NaN</td>\n",
              "      <td>NaN</td>\n",
              "      <td>NaN</td>\n",
              "      <td>NaN</td>\n",
              "      <td>NaN</td>\n",
              "    </tr>\n",
              "    <tr>\n",
              "      <th>2</th>\n",
              "      <td>Created</td>\n",
              "      <td>User_1</td>\n",
              "      <td>W_Handle leads</td>\n",
              "      <td>Workflow</td>\n",
              "      <td>Workitem_1298499574</td>\n",
              "      <td>schedule</td>\n",
              "      <td>2016-01-01 09:51:15.774000+00:00</td>\n",
              "      <td>Existing loan takeover</td>\n",
              "      <td>New credit</td>\n",
              "      <td>Application_652823628</td>\n",
              "      <td>20000.0</td>\n",
              "      <td>NaN</td>\n",
              "      <td>NaN</td>\n",
              "      <td>NaN</td>\n",
              "      <td>NaN</td>\n",
              "      <td>NaN</td>\n",
              "      <td>NaN</td>\n",
              "      <td>NaN</td>\n",
              "      <td>NaN</td>\n",
              "    </tr>\n",
              "    <tr>\n",
              "      <th>3</th>\n",
              "      <td>Deleted</td>\n",
              "      <td>User_1</td>\n",
              "      <td>W_Handle leads</td>\n",
              "      <td>Workflow</td>\n",
              "      <td>Workitem_1673366067</td>\n",
              "      <td>withdraw</td>\n",
              "      <td>2016-01-01 09:52:36.392000+00:00</td>\n",
              "      <td>Existing loan takeover</td>\n",
              "      <td>New credit</td>\n",
              "      <td>Application_652823628</td>\n",
              "      <td>20000.0</td>\n",
              "      <td>NaN</td>\n",
              "      <td>NaN</td>\n",
              "      <td>NaN</td>\n",
              "      <td>NaN</td>\n",
              "      <td>NaN</td>\n",
              "      <td>NaN</td>\n",
              "      <td>NaN</td>\n",
              "      <td>NaN</td>\n",
              "    </tr>\n",
              "    <tr>\n",
              "      <th>4</th>\n",
              "      <td>Created</td>\n",
              "      <td>User_1</td>\n",
              "      <td>W_Complete application</td>\n",
              "      <td>Workflow</td>\n",
              "      <td>Workitem_1493664571</td>\n",
              "      <td>schedule</td>\n",
              "      <td>2016-01-01 09:52:36.403000+00:00</td>\n",
              "      <td>Existing loan takeover</td>\n",
              "      <td>New credit</td>\n",
              "      <td>Application_652823628</td>\n",
              "      <td>20000.0</td>\n",
              "      <td>NaN</td>\n",
              "      <td>NaN</td>\n",
              "      <td>NaN</td>\n",
              "      <td>NaN</td>\n",
              "      <td>NaN</td>\n",
              "      <td>NaN</td>\n",
              "      <td>NaN</td>\n",
              "      <td>NaN</td>\n",
              "    </tr>\n",
              "  </tbody>\n",
              "</table>\n",
              "</div>"
            ],
            "text/plain": [
              "        action org_resource  ... offered_amount offer_id\n",
              "0      Created       User_1  ...            NaN      NaN\n",
              "1  statechange       User_1  ...            NaN      NaN\n",
              "2      Created       User_1  ...            NaN      NaN\n",
              "3      Deleted       User_1  ...            NaN      NaN\n",
              "4      Created       User_1  ...            NaN      NaN\n",
              "\n",
              "[5 rows x 19 columns]"
            ]
          },
          "metadata": {
            "tags": []
          },
          "execution_count": 5
        }
      ]
    },
    {
      "cell_type": "code",
      "metadata": {
        "id": "c_AdJBNuNH7c",
        "colab_type": "code",
        "colab": {
          "base_uri": "https://localhost:8080/",
          "height": 342
        },
        "outputId": "4f611921-c2c4-49bf-80e7-52eef7faf682"
      },
      "source": [
        "application_df.dtypes"
      ],
      "execution_count": 6,
      "outputs": [
        {
          "output_type": "execute_result",
          "data": {
            "text/plain": [
              "action                      object\n",
              "org_resource                object\n",
              "concept_name                object\n",
              "event_origin                object\n",
              "event_id                    object\n",
              "lifecycle_transition        object\n",
              "time_timestamp              object\n",
              "case_loan_goal              object\n",
              "case_application_type       object\n",
              "case_concept_name           object\n",
              "case_requested_amount      float64\n",
              "first_withdrawal_amount    float64\n",
              "number_of_terms            float64\n",
              "accepted                    object\n",
              "monthly_cost               float64\n",
              "selected                    object\n",
              "credit_score               float64\n",
              "offered_amount             float64\n",
              "offer_id                    object\n",
              "dtype: object"
            ]
          },
          "metadata": {
            "tags": []
          },
          "execution_count": 6
        }
      ]
    },
    {
      "cell_type": "code",
      "metadata": {
        "id": "XQJXhbpkoAcx",
        "colab_type": "code",
        "colab": {
          "base_uri": "https://localhost:8080/",
          "height": 456
        },
        "outputId": "9748fa63-bddd-4630-a31e-1c8cfec71559"
      },
      "source": [
        "application_df['concept_name'].value_counts()"
      ],
      "execution_count": null,
      "outputs": [
        {
          "output_type": "execute_result",
          "data": {
            "text/plain": [
              "W_Validate application        209496\n",
              "W_Call after offers           191092\n",
              "W_Call incomplete files       168529\n",
              "W_Complete application        148900\n",
              "W_Handle leads                 47264\n",
              "O_Created                      42995\n",
              "O_Create Offer                 42995\n",
              "O_Sent (mail and online)       39707\n",
              "A_Validating                   38816\n",
              "A_Accepted                     31509\n",
              "A_Concept                      31509\n",
              "A_Create Application           31509\n",
              "A_Complete                     31362\n",
              "O_Returned                     23305\n",
              "A_Incomplete                   23055\n",
              "O_Cancelled                    20898\n",
              "A_Submitted                    20423\n",
              "A_Pending                      17228\n",
              "O_Accepted                     17228\n",
              "A_Cancelled                    10431\n",
              "O_Refused                       4695\n",
              "A_Denied                        3753\n",
              "W_Assess potential fraud        3282\n",
              "O_Sent (online only)            2026\n",
              "W_Shortened completion           238\n",
              "W_Personal Loan collection        22\n",
              "Name: concept_name, dtype: int64"
            ]
          },
          "metadata": {
            "tags": []
          },
          "execution_count": 230
        }
      ]
    },
    {
      "cell_type": "markdown",
      "metadata": {
        "id": "qmvcpay9I9AE",
        "colab_type": "text"
      },
      "source": [
        "###**Create features *DateTime***"
      ]
    },
    {
      "cell_type": "code",
      "metadata": {
        "id": "wNDOaBDoCnYY",
        "colab_type": "code",
        "colab": {}
      },
      "source": [
        "application_df['datetime'] = pd.to_datetime(application_df.time_timestamp)"
      ],
      "execution_count": 7,
      "outputs": []
    },
    {
      "cell_type": "markdown",
      "metadata": {
        "id": "ymottOOQro5C",
        "colab_type": "text"
      },
      "source": [
        "#Explorative Analysis:"
      ]
    },
    {
      "cell_type": "markdown",
      "metadata": {
        "id": "iqmJONMxN6Ij",
        "colab_type": "text"
      },
      "source": [
        "\n",
        "###**1 - Finding the application start date.**"
      ]
    },
    {
      "cell_type": "code",
      "metadata": {
        "id": "NevmTfR_EwLg",
        "colab_type": "code",
        "colab": {
          "base_uri": "https://localhost:8080/",
          "height": 391
        },
        "outputId": "acb438bf-c380-44f9-9821-9c90f6284911"
      },
      "source": [
        "\n",
        "apps_start_date = (application_df[application_df['concept_name'] == 'A_Create Application']\n",
        "                    .filter(['case_concept_name','time_timestamp'])\n",
        "                    .rename(index=str, columns={'time_timestamp':'start_date'}))\n",
        "\n",
        "# Formatar start_date\n",
        "apps_start_date['start_date'] = pd.to_datetime(apps_start_date.start_date)\n",
        "apps_start_date['start_date'] = apps_start_date['start_date'].dt.strftime('%Y-%m-%d')\n",
        "\n",
        "apps_start_date"
      ],
      "execution_count": 8,
      "outputs": [
        {
          "output_type": "execute_result",
          "data": {
            "text/html": [
              "<div>\n",
              "<style scoped>\n",
              "    .dataframe tbody tr th:only-of-type {\n",
              "        vertical-align: middle;\n",
              "    }\n",
              "\n",
              "    .dataframe tbody tr th {\n",
              "        vertical-align: top;\n",
              "    }\n",
              "\n",
              "    .dataframe thead th {\n",
              "        text-align: right;\n",
              "    }\n",
              "</style>\n",
              "<table border=\"1\" class=\"dataframe\">\n",
              "  <thead>\n",
              "    <tr style=\"text-align: right;\">\n",
              "      <th></th>\n",
              "      <th>case_concept_name</th>\n",
              "      <th>start_date</th>\n",
              "    </tr>\n",
              "  </thead>\n",
              "  <tbody>\n",
              "    <tr>\n",
              "      <th>0</th>\n",
              "      <td>Application_652823628</td>\n",
              "      <td>2016-01-01</td>\n",
              "    </tr>\n",
              "    <tr>\n",
              "      <th>40</th>\n",
              "      <td>Application_1691306052</td>\n",
              "      <td>2016-01-01</td>\n",
              "    </tr>\n",
              "    <tr>\n",
              "      <th>71</th>\n",
              "      <td>Application_428409768</td>\n",
              "      <td>2016-01-01</td>\n",
              "    </tr>\n",
              "    <tr>\n",
              "      <th>116</th>\n",
              "      <td>Application_1746793196</td>\n",
              "      <td>2016-01-01</td>\n",
              "    </tr>\n",
              "    <tr>\n",
              "      <th>200</th>\n",
              "      <td>Application_828200680</td>\n",
              "      <td>2016-01-01</td>\n",
              "    </tr>\n",
              "    <tr>\n",
              "      <th>...</th>\n",
              "      <td>...</td>\n",
              "      <td>...</td>\n",
              "    </tr>\n",
              "    <tr>\n",
              "      <th>948909</th>\n",
              "      <td>Application_562058851</td>\n",
              "      <td>2016-10-15</td>\n",
              "    </tr>\n",
              "    <tr>\n",
              "      <th>948961</th>\n",
              "      <td>Application_2006713022</td>\n",
              "      <td>2016-10-15</td>\n",
              "    </tr>\n",
              "    <tr>\n",
              "      <th>949007</th>\n",
              "      <td>Application_1829753798</td>\n",
              "      <td>2016-10-15</td>\n",
              "    </tr>\n",
              "    <tr>\n",
              "      <th>949046</th>\n",
              "      <td>Application_518624776</td>\n",
              "      <td>2016-10-15</td>\n",
              "    </tr>\n",
              "    <tr>\n",
              "      <th>949067</th>\n",
              "      <td>Application_1302175045</td>\n",
              "      <td>2016-10-15</td>\n",
              "    </tr>\n",
              "  </tbody>\n",
              "</table>\n",
              "<p>24873 rows × 2 columns</p>\n",
              "</div>"
            ],
            "text/plain": [
              "             case_concept_name  start_date\n",
              "0        Application_652823628  2016-01-01\n",
              "40      Application_1691306052  2016-01-01\n",
              "71       Application_428409768  2016-01-01\n",
              "116     Application_1746793196  2016-01-01\n",
              "200      Application_828200680  2016-01-01\n",
              "...                        ...         ...\n",
              "948909   Application_562058851  2016-10-15\n",
              "948961  Application_2006713022  2016-10-15\n",
              "949007  Application_1829753798  2016-10-15\n",
              "949046   Application_518624776  2016-10-15\n",
              "949067  Application_1302175045  2016-10-15\n",
              "\n",
              "[24873 rows x 2 columns]"
            ]
          },
          "metadata": {
            "tags": []
          },
          "execution_count": 8
        }
      ]
    },
    {
      "cell_type": "markdown",
      "metadata": {
        "id": "vSqc1a46JUXJ",
        "colab_type": "text"
      },
      "source": [
        "###**2 - Finding the application closing date.**"
      ]
    },
    {
      "cell_type": "code",
      "metadata": {
        "id": "xcTLccYeD9XC",
        "colab_type": "code",
        "colab": {
          "base_uri": "https://localhost:8080/",
          "height": 391
        },
        "outputId": "da4aa8ab-6a9b-4834-93b7-faf65927fb8a"
      },
      "source": [
        "app_final_activities = ['A_Pending','A_Cancelled','A_Denied']\n",
        "apps_end_date = (application_df[application_df['concept_name'].isin(app_final_activities)]\n",
        "                    .groupby('case_concept_name')\n",
        "                    .agg({'datetime':'last'})\n",
        "                    .rename(index=str, columns={'datetime':'end_date'})\n",
        "                    .reset_index())\n",
        "\n",
        "# Formatar end_data\n",
        "apps_end_date['end_date'] = pd.to_datetime(apps_end_date.end_date)\n",
        "apps_end_date['end_date'] = apps_end_date['end_date'].dt.strftime('%Y-%m-%d')\n",
        "\n",
        "apps_end_date"
      ],
      "execution_count": 9,
      "outputs": [
        {
          "output_type": "execute_result",
          "data": {
            "text/html": [
              "<div>\n",
              "<style scoped>\n",
              "    .dataframe tbody tr th:only-of-type {\n",
              "        vertical-align: middle;\n",
              "    }\n",
              "\n",
              "    .dataframe tbody tr th {\n",
              "        vertical-align: top;\n",
              "    }\n",
              "\n",
              "    .dataframe thead th {\n",
              "        text-align: right;\n",
              "    }\n",
              "</style>\n",
              "<table border=\"1\" class=\"dataframe\">\n",
              "  <thead>\n",
              "    <tr style=\"text-align: right;\">\n",
              "      <th></th>\n",
              "      <th>case_concept_name</th>\n",
              "      <th>end_date</th>\n",
              "    </tr>\n",
              "  </thead>\n",
              "  <tbody>\n",
              "    <tr>\n",
              "      <th>0</th>\n",
              "      <td>Application_1000086665</td>\n",
              "      <td>2016-09-05</td>\n",
              "    </tr>\n",
              "    <tr>\n",
              "      <th>1</th>\n",
              "      <td>Application_1000158214</td>\n",
              "      <td>2016-06-10</td>\n",
              "    </tr>\n",
              "    <tr>\n",
              "      <th>2</th>\n",
              "      <td>Application_1000311556</td>\n",
              "      <td>2016-05-05</td>\n",
              "    </tr>\n",
              "    <tr>\n",
              "      <th>3</th>\n",
              "      <td>Application_1000334415</td>\n",
              "      <td>2016-09-29</td>\n",
              "    </tr>\n",
              "    <tr>\n",
              "      <th>4</th>\n",
              "      <td>Application_1000339879</td>\n",
              "      <td>2016-03-30</td>\n",
              "    </tr>\n",
              "    <tr>\n",
              "      <th>...</th>\n",
              "      <td>...</td>\n",
              "      <td>...</td>\n",
              "    </tr>\n",
              "    <tr>\n",
              "      <th>24867</th>\n",
              "      <td>Application_999487618</td>\n",
              "      <td>2016-08-29</td>\n",
              "    </tr>\n",
              "    <tr>\n",
              "      <th>24868</th>\n",
              "      <td>Application_999507989</td>\n",
              "      <td>2016-03-23</td>\n",
              "    </tr>\n",
              "    <tr>\n",
              "      <th>24869</th>\n",
              "      <td>Application_999544538</td>\n",
              "      <td>2016-07-26</td>\n",
              "    </tr>\n",
              "    <tr>\n",
              "      <th>24870</th>\n",
              "      <td>Application_999993467</td>\n",
              "      <td>2016-07-19</td>\n",
              "    </tr>\n",
              "    <tr>\n",
              "      <th>24871</th>\n",
              "      <td>Application_999993812</td>\n",
              "      <td>2016-10-24</td>\n",
              "    </tr>\n",
              "  </tbody>\n",
              "</table>\n",
              "<p>24872 rows × 2 columns</p>\n",
              "</div>"
            ],
            "text/plain": [
              "            case_concept_name    end_date\n",
              "0      Application_1000086665  2016-09-05\n",
              "1      Application_1000158214  2016-06-10\n",
              "2      Application_1000311556  2016-05-05\n",
              "3      Application_1000334415  2016-09-29\n",
              "4      Application_1000339879  2016-03-30\n",
              "...                       ...         ...\n",
              "24867   Application_999487618  2016-08-29\n",
              "24868   Application_999507989  2016-03-23\n",
              "24869   Application_999544538  2016-07-26\n",
              "24870   Application_999993467  2016-07-19\n",
              "24871   Application_999993812  2016-10-24\n",
              "\n",
              "[24872 rows x 2 columns]"
            ]
          },
          "metadata": {
            "tags": []
          },
          "execution_count": 9
        }
      ]
    },
    {
      "cell_type": "markdown",
      "metadata": {
        "id": "99GhklZnIOKx",
        "colab_type": "text"
      },
      "source": [
        "###**3 - Create a features *Month finished applicaion***"
      ]
    },
    {
      "cell_type": "code",
      "metadata": {
        "id": "OjVEhTdpEfXo",
        "colab_type": "code",
        "colab": {
          "base_uri": "https://localhost:8080/",
          "height": 391
        },
        "outputId": "ade3f810-3d2e-425a-8f6d-f6b21355c7c5"
      },
      "source": [
        "# Create Month\n",
        "\n",
        "apps_end_date['end_date'] = pd.to_datetime(apps_end_date.end_date)\n",
        "apps_end_date['month'] = apps_end_date['end_date'].dt.strftime('%m').astype(int)\n",
        "\n",
        "apps_end_date"
      ],
      "execution_count": 10,
      "outputs": [
        {
          "output_type": "execute_result",
          "data": {
            "text/html": [
              "<div>\n",
              "<style scoped>\n",
              "    .dataframe tbody tr th:only-of-type {\n",
              "        vertical-align: middle;\n",
              "    }\n",
              "\n",
              "    .dataframe tbody tr th {\n",
              "        vertical-align: top;\n",
              "    }\n",
              "\n",
              "    .dataframe thead th {\n",
              "        text-align: right;\n",
              "    }\n",
              "</style>\n",
              "<table border=\"1\" class=\"dataframe\">\n",
              "  <thead>\n",
              "    <tr style=\"text-align: right;\">\n",
              "      <th></th>\n",
              "      <th>case_concept_name</th>\n",
              "      <th>end_date</th>\n",
              "      <th>month</th>\n",
              "    </tr>\n",
              "  </thead>\n",
              "  <tbody>\n",
              "    <tr>\n",
              "      <th>0</th>\n",
              "      <td>Application_1000086665</td>\n",
              "      <td>2016-09-05</td>\n",
              "      <td>9</td>\n",
              "    </tr>\n",
              "    <tr>\n",
              "      <th>1</th>\n",
              "      <td>Application_1000158214</td>\n",
              "      <td>2016-06-10</td>\n",
              "      <td>6</td>\n",
              "    </tr>\n",
              "    <tr>\n",
              "      <th>2</th>\n",
              "      <td>Application_1000311556</td>\n",
              "      <td>2016-05-05</td>\n",
              "      <td>5</td>\n",
              "    </tr>\n",
              "    <tr>\n",
              "      <th>3</th>\n",
              "      <td>Application_1000334415</td>\n",
              "      <td>2016-09-29</td>\n",
              "      <td>9</td>\n",
              "    </tr>\n",
              "    <tr>\n",
              "      <th>4</th>\n",
              "      <td>Application_1000339879</td>\n",
              "      <td>2016-03-30</td>\n",
              "      <td>3</td>\n",
              "    </tr>\n",
              "    <tr>\n",
              "      <th>...</th>\n",
              "      <td>...</td>\n",
              "      <td>...</td>\n",
              "      <td>...</td>\n",
              "    </tr>\n",
              "    <tr>\n",
              "      <th>24867</th>\n",
              "      <td>Application_999487618</td>\n",
              "      <td>2016-08-29</td>\n",
              "      <td>8</td>\n",
              "    </tr>\n",
              "    <tr>\n",
              "      <th>24868</th>\n",
              "      <td>Application_999507989</td>\n",
              "      <td>2016-03-23</td>\n",
              "      <td>3</td>\n",
              "    </tr>\n",
              "    <tr>\n",
              "      <th>24869</th>\n",
              "      <td>Application_999544538</td>\n",
              "      <td>2016-07-26</td>\n",
              "      <td>7</td>\n",
              "    </tr>\n",
              "    <tr>\n",
              "      <th>24870</th>\n",
              "      <td>Application_999993467</td>\n",
              "      <td>2016-07-19</td>\n",
              "      <td>7</td>\n",
              "    </tr>\n",
              "    <tr>\n",
              "      <th>24871</th>\n",
              "      <td>Application_999993812</td>\n",
              "      <td>2016-10-24</td>\n",
              "      <td>10</td>\n",
              "    </tr>\n",
              "  </tbody>\n",
              "</table>\n",
              "<p>24872 rows × 3 columns</p>\n",
              "</div>"
            ],
            "text/plain": [
              "            case_concept_name   end_date  month\n",
              "0      Application_1000086665 2016-09-05      9\n",
              "1      Application_1000158214 2016-06-10      6\n",
              "2      Application_1000311556 2016-05-05      5\n",
              "3      Application_1000334415 2016-09-29      9\n",
              "4      Application_1000339879 2016-03-30      3\n",
              "...                       ...        ...    ...\n",
              "24867   Application_999487618 2016-08-29      8\n",
              "24868   Application_999507989 2016-03-23      3\n",
              "24869   Application_999544538 2016-07-26      7\n",
              "24870   Application_999993467 2016-07-19      7\n",
              "24871   Application_999993812 2016-10-24     10\n",
              "\n",
              "[24872 rows x 3 columns]"
            ]
          },
          "metadata": {
            "tags": []
          },
          "execution_count": 10
        }
      ]
    },
    {
      "cell_type": "markdown",
      "metadata": {
        "id": "TurHTEoVGq2U",
        "colab_type": "text"
      },
      "source": [
        "### **4 - Merge the two dataset * apps_end_date * and * apps_end_date**"
      ]
    },
    {
      "cell_type": "code",
      "metadata": {
        "id": "M1kNWZu5G2it",
        "colab_type": "code",
        "colab": {
          "base_uri": "https://localhost:8080/",
          "height": 391
        },
        "outputId": "f5131f30-875f-46be-8ecf-ed6055efaa2a"
      },
      "source": [
        "df = pd.merge(apps_start_date, apps_end_date, how='right', right_on='case_concept_name', left_on='case_concept_name')\n",
        "\n",
        "# Format start_data\n",
        "df['start_date'] = pd.to_datetime(df.start_date)\n",
        "df['start_date'] = df['start_date'].dt.strftime('%Y-%m-%d')\n",
        "\n",
        "df"
      ],
      "execution_count": 11,
      "outputs": [
        {
          "output_type": "execute_result",
          "data": {
            "text/html": [
              "<div>\n",
              "<style scoped>\n",
              "    .dataframe tbody tr th:only-of-type {\n",
              "        vertical-align: middle;\n",
              "    }\n",
              "\n",
              "    .dataframe tbody tr th {\n",
              "        vertical-align: top;\n",
              "    }\n",
              "\n",
              "    .dataframe thead th {\n",
              "        text-align: right;\n",
              "    }\n",
              "</style>\n",
              "<table border=\"1\" class=\"dataframe\">\n",
              "  <thead>\n",
              "    <tr style=\"text-align: right;\">\n",
              "      <th></th>\n",
              "      <th>case_concept_name</th>\n",
              "      <th>start_date</th>\n",
              "      <th>end_date</th>\n",
              "      <th>month</th>\n",
              "    </tr>\n",
              "  </thead>\n",
              "  <tbody>\n",
              "    <tr>\n",
              "      <th>0</th>\n",
              "      <td>Application_652823628</td>\n",
              "      <td>2016-01-01</td>\n",
              "      <td>2016-01-14</td>\n",
              "      <td>1</td>\n",
              "    </tr>\n",
              "    <tr>\n",
              "      <th>1</th>\n",
              "      <td>Application_1691306052</td>\n",
              "      <td>2016-01-01</td>\n",
              "      <td>2016-01-07</td>\n",
              "      <td>1</td>\n",
              "    </tr>\n",
              "    <tr>\n",
              "      <th>2</th>\n",
              "      <td>Application_428409768</td>\n",
              "      <td>2016-01-01</td>\n",
              "      <td>2016-01-14</td>\n",
              "      <td>1</td>\n",
              "    </tr>\n",
              "    <tr>\n",
              "      <th>3</th>\n",
              "      <td>Application_1746793196</td>\n",
              "      <td>2016-01-01</td>\n",
              "      <td>2016-01-28</td>\n",
              "      <td>1</td>\n",
              "    </tr>\n",
              "    <tr>\n",
              "      <th>4</th>\n",
              "      <td>Application_828200680</td>\n",
              "      <td>2016-01-01</td>\n",
              "      <td>2016-02-02</td>\n",
              "      <td>2</td>\n",
              "    </tr>\n",
              "    <tr>\n",
              "      <th>...</th>\n",
              "      <td>...</td>\n",
              "      <td>...</td>\n",
              "      <td>...</td>\n",
              "      <td>...</td>\n",
              "    </tr>\n",
              "    <tr>\n",
              "      <th>24867</th>\n",
              "      <td>Application_742991529</td>\n",
              "      <td>2016-10-15</td>\n",
              "      <td>2016-10-26</td>\n",
              "      <td>10</td>\n",
              "    </tr>\n",
              "    <tr>\n",
              "      <th>24868</th>\n",
              "      <td>Application_562058851</td>\n",
              "      <td>2016-10-15</td>\n",
              "      <td>2016-10-24</td>\n",
              "      <td>10</td>\n",
              "    </tr>\n",
              "    <tr>\n",
              "      <th>24869</th>\n",
              "      <td>Application_2006713022</td>\n",
              "      <td>2016-10-15</td>\n",
              "      <td>2016-11-14</td>\n",
              "      <td>11</td>\n",
              "    </tr>\n",
              "    <tr>\n",
              "      <th>24870</th>\n",
              "      <td>Application_1829753798</td>\n",
              "      <td>2016-10-15</td>\n",
              "      <td>2016-10-28</td>\n",
              "      <td>10</td>\n",
              "    </tr>\n",
              "    <tr>\n",
              "      <th>24871</th>\n",
              "      <td>Application_518624776</td>\n",
              "      <td>2016-10-15</td>\n",
              "      <td>2016-11-17</td>\n",
              "      <td>11</td>\n",
              "    </tr>\n",
              "  </tbody>\n",
              "</table>\n",
              "<p>24872 rows × 4 columns</p>\n",
              "</div>"
            ],
            "text/plain": [
              "            case_concept_name  start_date   end_date  month\n",
              "0       Application_652823628  2016-01-01 2016-01-14      1\n",
              "1      Application_1691306052  2016-01-01 2016-01-07      1\n",
              "2       Application_428409768  2016-01-01 2016-01-14      1\n",
              "3      Application_1746793196  2016-01-01 2016-01-28      1\n",
              "4       Application_828200680  2016-01-01 2016-02-02      2\n",
              "...                       ...         ...        ...    ...\n",
              "24867   Application_742991529  2016-10-15 2016-10-26     10\n",
              "24868   Application_562058851  2016-10-15 2016-10-24     10\n",
              "24869  Application_2006713022  2016-10-15 2016-11-14     11\n",
              "24870  Application_1829753798  2016-10-15 2016-10-28     10\n",
              "24871   Application_518624776  2016-10-15 2016-11-17     11\n",
              "\n",
              "[24872 rows x 4 columns]"
            ]
          },
          "metadata": {
            "tags": []
          },
          "execution_count": 11
        }
      ]
    },
    {
      "cell_type": "markdown",
      "metadata": {
        "id": "BwwqyRfKPOHp",
        "colab_type": "text"
      },
      "source": [
        "#Question"
      ]
    },
    {
      "cell_type": "markdown",
      "metadata": {
        "id": "I9y9tJzHPlLa",
        "colab_type": "text"
      },
      "source": [
        "## **1 Question** - How many applications have been completed"
      ]
    },
    {
      "cell_type": "markdown",
      "metadata": {
        "id": "ymamGm4nfg6F",
        "colab_type": "text"
      },
      "source": [
        "### **Count application amount per month**"
      ]
    },
    {
      "cell_type": "code",
      "metadata": {
        "id": "l8ipR_Fdcn2F",
        "colab_type": "code",
        "colab": {
          "base_uri": "https://localhost:8080/",
          "height": 392
        },
        "outputId": "4929d241-5f6b-4249-f2e9-68213f2e3b69"
      },
      "source": [
        "events_per_month = df.month.value_counts().reset_index() \\\n",
        "                    .rename(index = str, columns = {'index':'month',\n",
        "                                                    'month':'num_app'}) \\\n",
        "                    .sort_values('month') \n",
        "events_per_month"
      ],
      "execution_count": 12,
      "outputs": [
        {
          "output_type": "execute_result",
          "data": {
            "text/html": [
              "<div>\n",
              "<style scoped>\n",
              "    .dataframe tbody tr th:only-of-type {\n",
              "        vertical-align: middle;\n",
              "    }\n",
              "\n",
              "    .dataframe tbody tr th {\n",
              "        vertical-align: top;\n",
              "    }\n",
              "\n",
              "    .dataframe thead th {\n",
              "        text-align: right;\n",
              "    }\n",
              "</style>\n",
              "<table border=\"1\" class=\"dataframe\">\n",
              "  <thead>\n",
              "    <tr style=\"text-align: right;\">\n",
              "      <th></th>\n",
              "      <th>month</th>\n",
              "      <th>num_app</th>\n",
              "    </tr>\n",
              "  </thead>\n",
              "  <tbody>\n",
              "    <tr>\n",
              "      <th>9</th>\n",
              "      <td>1</td>\n",
              "      <td>798</td>\n",
              "    </tr>\n",
              "    <tr>\n",
              "      <th>8</th>\n",
              "      <td>2</td>\n",
              "      <td>2120</td>\n",
              "    </tr>\n",
              "    <tr>\n",
              "      <th>4</th>\n",
              "      <td>3</td>\n",
              "      <td>2536</td>\n",
              "    </tr>\n",
              "    <tr>\n",
              "      <th>5</th>\n",
              "      <td>4</td>\n",
              "      <td>2292</td>\n",
              "    </tr>\n",
              "    <tr>\n",
              "      <th>7</th>\n",
              "      <td>5</td>\n",
              "      <td>2216</td>\n",
              "    </tr>\n",
              "    <tr>\n",
              "      <th>6</th>\n",
              "      <td>6</td>\n",
              "      <td>2252</td>\n",
              "    </tr>\n",
              "    <tr>\n",
              "      <th>2</th>\n",
              "      <td>7</td>\n",
              "      <td>2987</td>\n",
              "    </tr>\n",
              "    <tr>\n",
              "      <th>0</th>\n",
              "      <td>8</td>\n",
              "      <td>3021</td>\n",
              "    </tr>\n",
              "    <tr>\n",
              "      <th>1</th>\n",
              "      <td>9</td>\n",
              "      <td>3018</td>\n",
              "    </tr>\n",
              "    <tr>\n",
              "      <th>3</th>\n",
              "      <td>10</td>\n",
              "      <td>2971</td>\n",
              "    </tr>\n",
              "    <tr>\n",
              "      <th>10</th>\n",
              "      <td>11</td>\n",
              "      <td>633</td>\n",
              "    </tr>\n",
              "    <tr>\n",
              "      <th>11</th>\n",
              "      <td>12</td>\n",
              "      <td>28</td>\n",
              "    </tr>\n",
              "  </tbody>\n",
              "</table>\n",
              "</div>"
            ],
            "text/plain": [
              "    month  num_app\n",
              "9       1      798\n",
              "8       2     2120\n",
              "4       3     2536\n",
              "5       4     2292\n",
              "7       5     2216\n",
              "6       6     2252\n",
              "2       7     2987\n",
              "0       8     3021\n",
              "1       9     3018\n",
              "3      10     2971\n",
              "10     11      633\n",
              "11     12       28"
            ]
          },
          "metadata": {
            "tags": []
          },
          "execution_count": 12
        }
      ]
    },
    {
      "cell_type": "code",
      "metadata": {
        "id": "CHFiFaKEc-zS",
        "colab_type": "code",
        "colab": {
          "base_uri": "https://localhost:8080/",
          "height": 627
        },
        "outputId": "7305c28d-bee1-412d-a243-900f71c1f54a"
      },
      "source": [
        "fig, ax = pyplot.subplots(figsize=(16,10))\n",
        "g = sns.barplot(data = events_per_month, x ='month', y= 'num_app');\n",
        "g.set_xlabel('Period Of The Year')\n",
        "g.set_ylabel('Num. Aplication')\n",
        "g.set_title('Number of Events per Month')\n",
        "pyplot.xticks(rotation=45);"
      ],
      "execution_count": 13,
      "outputs": [
        {
          "output_type": "display_data",
          "data": {
            "image/png": "[encoded data removed]",
            "text/plain": [
              "<Figure size 1152x720 with 1 Axes>"
            ]
          },
          "metadata": {
            "tags": [],
            "needs_background": "light"
          }
        }
      ]
    },
    {
      "cell_type": "code",
      "metadata": {
        "id": "aMuDjFc4zBPx",
        "colab_type": "code",
        "colab": {
          "base_uri": "https://localhost:8080/",
          "height": 528
        },
        "outputId": "a4169125-1465-4769-ef5e-837d6433612a"
      },
      "source": [
        "plt.figure(figsize=(16, 8))\n",
        "plt.tight_layout()\n",
        "ax = sns.lineplot(data = events_per_month, x ='month', y= 'num_app');\n",
        "ax.set_title('Number of Events per Month')\n"
      ],
      "execution_count": 14,
      "outputs": [
        {
          "output_type": "execute_result",
          "data": {
            "text/plain": [
              "Text(0.5, 1.0, 'Number of Events per Month')"
            ]
          },
          "metadata": {
            "tags": []
          },
          "execution_count": 14
        },
        {
          "output_type": "display_data",
          "data": {
            "image/png": "[encoded data removed]",
            "text/plain": [
              "<Figure size 1152x576 with 1 Axes>"
            ]
          },
          "metadata": {
            "tags": [],
            "needs_background": "light"
          }
        }
      ]
    },
    {
      "cell_type": "markdown",
      "metadata": {
        "id": "pB_fb7hJPq-v",
        "colab_type": "text"
      },
      "source": [
        "## **2 Question Number** of applications per period?"
      ]
    },
    {
      "cell_type": "markdown",
      "metadata": {
        "id": "5B6H2rDJGJOz",
        "colab_type": "text"
      },
      "source": [
        "###**5 - Create a features *period_of_the_year, year, month, week***"
      ]
    },
    {
      "cell_type": "code",
      "metadata": {
        "id": "d3ifDOWsOfzb",
        "colab_type": "code",
        "colab": {
          "base_uri": "https://localhost:8080/",
          "height": 391
        },
        "outputId": "ac86b05d-c8e5-400b-ffee-c1cec07ad04c"
      },
      "source": [
        "df['year'] = pd.DatetimeIndex(df['end_date']).year\n",
        "df['day_week'] = pd.DatetimeIndex(df['end_date']).dayofweek\n",
        "df['period_of_the_year'] = pd.DatetimeIndex(df['end_date']).quarter\n",
        "df['week'] = pd.DatetimeIndex(df['end_date']).strftime('%G%V')\n",
        "\n",
        "df"
      ],
      "execution_count": 15,
      "outputs": [
        {
          "output_type": "execute_result",
          "data": {
            "text/html": [
              "<div>\n",
              "<style scoped>\n",
              "    .dataframe tbody tr th:only-of-type {\n",
              "        vertical-align: middle;\n",
              "    }\n",
              "\n",
              "    .dataframe tbody tr th {\n",
              "        vertical-align: top;\n",
              "    }\n",
              "\n",
              "    .dataframe thead th {\n",
              "        text-align: right;\n",
              "    }\n",
              "</style>\n",
              "<table border=\"1\" class=\"dataframe\">\n",
              "  <thead>\n",
              "    <tr style=\"text-align: right;\">\n",
              "      <th></th>\n",
              "      <th>case_concept_name</th>\n",
              "      <th>start_date</th>\n",
              "      <th>end_date</th>\n",
              "      <th>month</th>\n",
              "      <th>year</th>\n",
              "      <th>day_week</th>\n",
              "      <th>period_of_the_year</th>\n",
              "      <th>week</th>\n",
              "    </tr>\n",
              "  </thead>\n",
              "  <tbody>\n",
              "    <tr>\n",
              "      <th>0</th>\n",
              "      <td>Application_652823628</td>\n",
              "      <td>2016-01-01</td>\n",
              "      <td>2016-01-14</td>\n",
              "      <td>1</td>\n",
              "      <td>2016</td>\n",
              "      <td>3</td>\n",
              "      <td>1</td>\n",
              "      <td>201602</td>\n",
              "    </tr>\n",
              "    <tr>\n",
              "      <th>1</th>\n",
              "      <td>Application_1691306052</td>\n",
              "      <td>2016-01-01</td>\n",
              "      <td>2016-01-07</td>\n",
              "      <td>1</td>\n",
              "      <td>2016</td>\n",
              "      <td>3</td>\n",
              "      <td>1</td>\n",
              "      <td>201601</td>\n",
              "    </tr>\n",
              "    <tr>\n",
              "      <th>2</th>\n",
              "      <td>Application_428409768</td>\n",
              "      <td>2016-01-01</td>\n",
              "      <td>2016-01-14</td>\n",
              "      <td>1</td>\n",
              "      <td>2016</td>\n",
              "      <td>3</td>\n",
              "      <td>1</td>\n",
              "      <td>201602</td>\n",
              "    </tr>\n",
              "    <tr>\n",
              "      <th>3</th>\n",
              "      <td>Application_1746793196</td>\n",
              "      <td>2016-01-01</td>\n",
              "      <td>2016-01-28</td>\n",
              "      <td>1</td>\n",
              "      <td>2016</td>\n",
              "      <td>3</td>\n",
              "      <td>1</td>\n",
              "      <td>201604</td>\n",
              "    </tr>\n",
              "    <tr>\n",
              "      <th>4</th>\n",
              "      <td>Application_828200680</td>\n",
              "      <td>2016-01-01</td>\n",
              "      <td>2016-02-02</td>\n",
              "      <td>2</td>\n",
              "      <td>2016</td>\n",
              "      <td>1</td>\n",
              "      <td>1</td>\n",
              "      <td>201605</td>\n",
              "    </tr>\n",
              "    <tr>\n",
              "      <th>...</th>\n",
              "      <td>...</td>\n",
              "      <td>...</td>\n",
              "      <td>...</td>\n",
              "      <td>...</td>\n",
              "      <td>...</td>\n",
              "      <td>...</td>\n",
              "      <td>...</td>\n",
              "      <td>...</td>\n",
              "    </tr>\n",
              "    <tr>\n",
              "      <th>24867</th>\n",
              "      <td>Application_742991529</td>\n",
              "      <td>2016-10-15</td>\n",
              "      <td>2016-10-26</td>\n",
              "      <td>10</td>\n",
              "      <td>2016</td>\n",
              "      <td>2</td>\n",
              "      <td>4</td>\n",
              "      <td>201643</td>\n",
              "    </tr>\n",
              "    <tr>\n",
              "      <th>24868</th>\n",
              "      <td>Application_562058851</td>\n",
              "      <td>2016-10-15</td>\n",
              "      <td>2016-10-24</td>\n",
              "      <td>10</td>\n",
              "      <td>2016</td>\n",
              "      <td>0</td>\n",
              "      <td>4</td>\n",
              "      <td>201643</td>\n",
              "    </tr>\n",
              "    <tr>\n",
              "      <th>24869</th>\n",
              "      <td>Application_2006713022</td>\n",
              "      <td>2016-10-15</td>\n",
              "      <td>2016-11-14</td>\n",
              "      <td>11</td>\n",
              "      <td>2016</td>\n",
              "      <td>0</td>\n",
              "      <td>4</td>\n",
              "      <td>201646</td>\n",
              "    </tr>\n",
              "    <tr>\n",
              "      <th>24870</th>\n",
              "      <td>Application_1829753798</td>\n",
              "      <td>2016-10-15</td>\n",
              "      <td>2016-10-28</td>\n",
              "      <td>10</td>\n",
              "      <td>2016</td>\n",
              "      <td>4</td>\n",
              "      <td>4</td>\n",
              "      <td>201643</td>\n",
              "    </tr>\n",
              "    <tr>\n",
              "      <th>24871</th>\n",
              "      <td>Application_518624776</td>\n",
              "      <td>2016-10-15</td>\n",
              "      <td>2016-11-17</td>\n",
              "      <td>11</td>\n",
              "      <td>2016</td>\n",
              "      <td>3</td>\n",
              "      <td>4</td>\n",
              "      <td>201646</td>\n",
              "    </tr>\n",
              "  </tbody>\n",
              "</table>\n",
              "<p>24872 rows × 8 columns</p>\n",
              "</div>"
            ],
            "text/plain": [
              "            case_concept_name  start_date  ... period_of_the_year    week\n",
              "0       Application_652823628  2016-01-01  ...                  1  201602\n",
              "1      Application_1691306052  2016-01-01  ...                  1  201601\n",
              "2       Application_428409768  2016-01-01  ...                  1  201602\n",
              "3      Application_1746793196  2016-01-01  ...                  1  201604\n",
              "4       Application_828200680  2016-01-01  ...                  1  201605\n",
              "...                       ...         ...  ...                ...     ...\n",
              "24867   Application_742991529  2016-10-15  ...                  4  201643\n",
              "24868   Application_562058851  2016-10-15  ...                  4  201643\n",
              "24869  Application_2006713022  2016-10-15  ...                  4  201646\n",
              "24870  Application_1829753798  2016-10-15  ...                  4  201643\n",
              "24871   Application_518624776  2016-10-15  ...                  4  201646\n",
              "\n",
              "[24872 rows x 8 columns]"
            ]
          },
          "metadata": {
            "tags": []
          },
          "execution_count": 15
        }
      ]
    },
    {
      "cell_type": "code",
      "metadata": {
        "id": "XJl_2n1fTGHV",
        "colab_type": "code",
        "colab": {
          "base_uri": "https://localhost:8080/",
          "height": 162
        },
        "outputId": "5b9bfbf0-9db0-448e-fb54-a8d9af826ec7"
      },
      "source": [
        "events_per_period = df.period_of_the_year.value_counts().reset_index() \\\n",
        "                    .rename(index = str, columns = {'index':'period_of_the_year',\n",
        "                                                    'period_of_the_year':'num_events'}) \\\n",
        "                    .sort_values('period_of_the_year') \n",
        "events_per_period"
      ],
      "execution_count": 16,
      "outputs": [
        {
          "output_type": "execute_result",
          "data": {
            "text/html": [
              "<div>\n",
              "<style scoped>\n",
              "    .dataframe tbody tr th:only-of-type {\n",
              "        vertical-align: middle;\n",
              "    }\n",
              "\n",
              "    .dataframe tbody tr th {\n",
              "        vertical-align: top;\n",
              "    }\n",
              "\n",
              "    .dataframe thead th {\n",
              "        text-align: right;\n",
              "    }\n",
              "</style>\n",
              "<table border=\"1\" class=\"dataframe\">\n",
              "  <thead>\n",
              "    <tr style=\"text-align: right;\">\n",
              "      <th></th>\n",
              "      <th>period_of_the_year</th>\n",
              "      <th>num_events</th>\n",
              "    </tr>\n",
              "  </thead>\n",
              "  <tbody>\n",
              "    <tr>\n",
              "      <th>2</th>\n",
              "      <td>1</td>\n",
              "      <td>5454</td>\n",
              "    </tr>\n",
              "    <tr>\n",
              "      <th>1</th>\n",
              "      <td>2</td>\n",
              "      <td>6760</td>\n",
              "    </tr>\n",
              "    <tr>\n",
              "      <th>0</th>\n",
              "      <td>3</td>\n",
              "      <td>9026</td>\n",
              "    </tr>\n",
              "    <tr>\n",
              "      <th>3</th>\n",
              "      <td>4</td>\n",
              "      <td>3632</td>\n",
              "    </tr>\n",
              "  </tbody>\n",
              "</table>\n",
              "</div>"
            ],
            "text/plain": [
              "   period_of_the_year  num_events\n",
              "2                   1        5454\n",
              "1                   2        6760\n",
              "0                   3        9026\n",
              "3                   4        3632"
            ]
          },
          "metadata": {
            "tags": []
          },
          "execution_count": 16
        }
      ]
    },
    {
      "cell_type": "code",
      "metadata": {
        "id": "OIiT-qJNZqp3",
        "colab_type": "code",
        "colab": {
          "base_uri": "https://localhost:8080/",
          "height": 622
        },
        "outputId": "1671fad8-2498-4d98-f350-c0a0554b52f7"
      },
      "source": [
        "fig, ax = pyplot.subplots(figsize=(16,10))\n",
        "g = sns.barplot(data = events_per_period, x ='period_of_the_year', y= 'num_events',  alpha=0.3, color=\"blue\");\n",
        "g.set_xlabel('Period Of The Year')\n",
        "g.set_ylabel('Num. Aplication')\n",
        "g.set_title('Number of Events per Period')\n",
        "pyplot.xticks(rotation=45);"
      ],
      "execution_count": 17,
      "outputs": [
        {
          "output_type": "display_data",
          "data": {
            "image/png": "[encoded data removed]",
            "text/plain": [
              "<Figure size 1152x720 with 1 Axes>"
            ]
          },
          "metadata": {
            "tags": [],
            "needs_background": "light"
          }
        }
      ]
    },
    {
      "cell_type": "markdown",
      "metadata": {
        "id": "eCU70kA9SBja",
        "colab_type": "text"
      },
      "source": [
        "\n",
        "### **6 - Creates the features *finished_week* adding 6 days to the start date.**"
      ]
    },
    {
      "cell_type": "code",
      "metadata": {
        "id": "_35ovtA8L5VD",
        "colab_type": "code",
        "colab": {
          "base_uri": "https://localhost:8080/",
          "height": 391
        },
        "outputId": "dfce351c-c726-4bf5-bd87-daac9d9a7fb8"
      },
      "source": [
        "df['finished_week'] = pd.to_datetime(df.start_date)\n",
        "df['finished_week'] = df.finished_week.apply(lambda x : x + timedelta(days=6))\n",
        "df"
      ],
      "execution_count": 18,
      "outputs": [
        {
          "output_type": "execute_result",
          "data": {
            "text/html": [
              "<div>\n",
              "<style scoped>\n",
              "    .dataframe tbody tr th:only-of-type {\n",
              "        vertical-align: middle;\n",
              "    }\n",
              "\n",
              "    .dataframe tbody tr th {\n",
              "        vertical-align: top;\n",
              "    }\n",
              "\n",
              "    .dataframe thead th {\n",
              "        text-align: right;\n",
              "    }\n",
              "</style>\n",
              "<table border=\"1\" class=\"dataframe\">\n",
              "  <thead>\n",
              "    <tr style=\"text-align: right;\">\n",
              "      <th></th>\n",
              "      <th>case_concept_name</th>\n",
              "      <th>start_date</th>\n",
              "      <th>end_date</th>\n",
              "      <th>month</th>\n",
              "      <th>year</th>\n",
              "      <th>day_week</th>\n",
              "      <th>period_of_the_year</th>\n",
              "      <th>week</th>\n",
              "      <th>finished_week</th>\n",
              "    </tr>\n",
              "  </thead>\n",
              "  <tbody>\n",
              "    <tr>\n",
              "      <th>0</th>\n",
              "      <td>Application_652823628</td>\n",
              "      <td>2016-01-01</td>\n",
              "      <td>2016-01-14</td>\n",
              "      <td>1</td>\n",
              "      <td>2016</td>\n",
              "      <td>3</td>\n",
              "      <td>1</td>\n",
              "      <td>201602</td>\n",
              "      <td>2016-01-07</td>\n",
              "    </tr>\n",
              "    <tr>\n",
              "      <th>1</th>\n",
              "      <td>Application_1691306052</td>\n",
              "      <td>2016-01-01</td>\n",
              "      <td>2016-01-07</td>\n",
              "      <td>1</td>\n",
              "      <td>2016</td>\n",
              "      <td>3</td>\n",
              "      <td>1</td>\n",
              "      <td>201601</td>\n",
              "      <td>2016-01-07</td>\n",
              "    </tr>\n",
              "    <tr>\n",
              "      <th>2</th>\n",
              "      <td>Application_428409768</td>\n",
              "      <td>2016-01-01</td>\n",
              "      <td>2016-01-14</td>\n",
              "      <td>1</td>\n",
              "      <td>2016</td>\n",
              "      <td>3</td>\n",
              "      <td>1</td>\n",
              "      <td>201602</td>\n",
              "      <td>2016-01-07</td>\n",
              "    </tr>\n",
              "    <tr>\n",
              "      <th>3</th>\n",
              "      <td>Application_1746793196</td>\n",
              "      <td>2016-01-01</td>\n",
              "      <td>2016-01-28</td>\n",
              "      <td>1</td>\n",
              "      <td>2016</td>\n",
              "      <td>3</td>\n",
              "      <td>1</td>\n",
              "      <td>201604</td>\n",
              "      <td>2016-01-07</td>\n",
              "    </tr>\n",
              "    <tr>\n",
              "      <th>4</th>\n",
              "      <td>Application_828200680</td>\n",
              "      <td>2016-01-01</td>\n",
              "      <td>2016-02-02</td>\n",
              "      <td>2</td>\n",
              "      <td>2016</td>\n",
              "      <td>1</td>\n",
              "      <td>1</td>\n",
              "      <td>201605</td>\n",
              "      <td>2016-01-07</td>\n",
              "    </tr>\n",
              "    <tr>\n",
              "      <th>...</th>\n",
              "      <td>...</td>\n",
              "      <td>...</td>\n",
              "      <td>...</td>\n",
              "      <td>...</td>\n",
              "      <td>...</td>\n",
              "      <td>...</td>\n",
              "      <td>...</td>\n",
              "      <td>...</td>\n",
              "      <td>...</td>\n",
              "    </tr>\n",
              "    <tr>\n",
              "      <th>24867</th>\n",
              "      <td>Application_742991529</td>\n",
              "      <td>2016-10-15</td>\n",
              "      <td>2016-10-26</td>\n",
              "      <td>10</td>\n",
              "      <td>2016</td>\n",
              "      <td>2</td>\n",
              "      <td>4</td>\n",
              "      <td>201643</td>\n",
              "      <td>2016-10-21</td>\n",
              "    </tr>\n",
              "    <tr>\n",
              "      <th>24868</th>\n",
              "      <td>Application_562058851</td>\n",
              "      <td>2016-10-15</td>\n",
              "      <td>2016-10-24</td>\n",
              "      <td>10</td>\n",
              "      <td>2016</td>\n",
              "      <td>0</td>\n",
              "      <td>4</td>\n",
              "      <td>201643</td>\n",
              "      <td>2016-10-21</td>\n",
              "    </tr>\n",
              "    <tr>\n",
              "      <th>24869</th>\n",
              "      <td>Application_2006713022</td>\n",
              "      <td>2016-10-15</td>\n",
              "      <td>2016-11-14</td>\n",
              "      <td>11</td>\n",
              "      <td>2016</td>\n",
              "      <td>0</td>\n",
              "      <td>4</td>\n",
              "      <td>201646</td>\n",
              "      <td>2016-10-21</td>\n",
              "    </tr>\n",
              "    <tr>\n",
              "      <th>24870</th>\n",
              "      <td>Application_1829753798</td>\n",
              "      <td>2016-10-15</td>\n",
              "      <td>2016-10-28</td>\n",
              "      <td>10</td>\n",
              "      <td>2016</td>\n",
              "      <td>4</td>\n",
              "      <td>4</td>\n",
              "      <td>201643</td>\n",
              "      <td>2016-10-21</td>\n",
              "    </tr>\n",
              "    <tr>\n",
              "      <th>24871</th>\n",
              "      <td>Application_518624776</td>\n",
              "      <td>2016-10-15</td>\n",
              "      <td>2016-11-17</td>\n",
              "      <td>11</td>\n",
              "      <td>2016</td>\n",
              "      <td>3</td>\n",
              "      <td>4</td>\n",
              "      <td>201646</td>\n",
              "      <td>2016-10-21</td>\n",
              "    </tr>\n",
              "  </tbody>\n",
              "</table>\n",
              "<p>24872 rows × 9 columns</p>\n",
              "</div>"
            ],
            "text/plain": [
              "            case_concept_name  start_date  ...    week  finished_week\n",
              "0       Application_652823628  2016-01-01  ...  201602     2016-01-07\n",
              "1      Application_1691306052  2016-01-01  ...  201601     2016-01-07\n",
              "2       Application_428409768  2016-01-01  ...  201602     2016-01-07\n",
              "3      Application_1746793196  2016-01-01  ...  201604     2016-01-07\n",
              "4       Application_828200680  2016-01-01  ...  201605     2016-01-07\n",
              "...                       ...         ...  ...     ...            ...\n",
              "24867   Application_742991529  2016-10-15  ...  201643     2016-10-21\n",
              "24868   Application_562058851  2016-10-15  ...  201643     2016-10-21\n",
              "24869  Application_2006713022  2016-10-15  ...  201646     2016-10-21\n",
              "24870  Application_1829753798  2016-10-15  ...  201643     2016-10-21\n",
              "24871   Application_518624776  2016-10-15  ...  201646     2016-10-21\n",
              "\n",
              "[24872 rows x 9 columns]"
            ]
          },
          "metadata": {
            "tags": []
          },
          "execution_count": 18
        }
      ]
    },
    {
      "cell_type": "markdown",
      "metadata": {
        "id": "4GA1FxqHGVTb",
        "colab_type": "text"
      },
      "source": [
        "\n",
        "### **7 - Creates the features *label* that checks if the activity was closed that week.**\n"
      ]
    },
    {
      "cell_type": "code",
      "metadata": {
        "id": "J7B7XGAET-G0",
        "colab_type": "code",
        "colab": {
          "base_uri": "https://localhost:8080/",
          "height": 391
        },
        "outputId": "1abb6dd9-069c-4fb4-e5bd-5226e13501d5"
      },
      "source": [
        "df['label'] = df['end_date'] <= df['finished_week']\n",
        "df.sample(10)\n",
        "\n",
        "df"
      ],
      "execution_count": 19,
      "outputs": [
        {
          "output_type": "execute_result",
          "data": {
            "text/html": [
              "<div>\n",
              "<style scoped>\n",
              "    .dataframe tbody tr th:only-of-type {\n",
              "        vertical-align: middle;\n",
              "    }\n",
              "\n",
              "    .dataframe tbody tr th {\n",
              "        vertical-align: top;\n",
              "    }\n",
              "\n",
              "    .dataframe thead th {\n",
              "        text-align: right;\n",
              "    }\n",
              "</style>\n",
              "<table border=\"1\" class=\"dataframe\">\n",
              "  <thead>\n",
              "    <tr style=\"text-align: right;\">\n",
              "      <th></th>\n",
              "      <th>case_concept_name</th>\n",
              "      <th>start_date</th>\n",
              "      <th>end_date</th>\n",
              "      <th>month</th>\n",
              "      <th>year</th>\n",
              "      <th>day_week</th>\n",
              "      <th>period_of_the_year</th>\n",
              "      <th>week</th>\n",
              "      <th>finished_week</th>\n",
              "      <th>label</th>\n",
              "    </tr>\n",
              "  </thead>\n",
              "  <tbody>\n",
              "    <tr>\n",
              "      <th>0</th>\n",
              "      <td>Application_652823628</td>\n",
              "      <td>2016-01-01</td>\n",
              "      <td>2016-01-14</td>\n",
              "      <td>1</td>\n",
              "      <td>2016</td>\n",
              "      <td>3</td>\n",
              "      <td>1</td>\n",
              "      <td>201602</td>\n",
              "      <td>2016-01-07</td>\n",
              "      <td>False</td>\n",
              "    </tr>\n",
              "    <tr>\n",
              "      <th>1</th>\n",
              "      <td>Application_1691306052</td>\n",
              "      <td>2016-01-01</td>\n",
              "      <td>2016-01-07</td>\n",
              "      <td>1</td>\n",
              "      <td>2016</td>\n",
              "      <td>3</td>\n",
              "      <td>1</td>\n",
              "      <td>201601</td>\n",
              "      <td>2016-01-07</td>\n",
              "      <td>True</td>\n",
              "    </tr>\n",
              "    <tr>\n",
              "      <th>2</th>\n",
              "      <td>Application_428409768</td>\n",
              "      <td>2016-01-01</td>\n",
              "      <td>2016-01-14</td>\n",
              "      <td>1</td>\n",
              "      <td>2016</td>\n",
              "      <td>3</td>\n",
              "      <td>1</td>\n",
              "      <td>201602</td>\n",
              "      <td>2016-01-07</td>\n",
              "      <td>False</td>\n",
              "    </tr>\n",
              "    <tr>\n",
              "      <th>3</th>\n",
              "      <td>Application_1746793196</td>\n",
              "      <td>2016-01-01</td>\n",
              "      <td>2016-01-28</td>\n",
              "      <td>1</td>\n",
              "      <td>2016</td>\n",
              "      <td>3</td>\n",
              "      <td>1</td>\n",
              "      <td>201604</td>\n",
              "      <td>2016-01-07</td>\n",
              "      <td>False</td>\n",
              "    </tr>\n",
              "    <tr>\n",
              "      <th>4</th>\n",
              "      <td>Application_828200680</td>\n",
              "      <td>2016-01-01</td>\n",
              "      <td>2016-02-02</td>\n",
              "      <td>2</td>\n",
              "      <td>2016</td>\n",
              "      <td>1</td>\n",
              "      <td>1</td>\n",
              "      <td>201605</td>\n",
              "      <td>2016-01-07</td>\n",
              "      <td>False</td>\n",
              "    </tr>\n",
              "    <tr>\n",
              "      <th>...</th>\n",
              "      <td>...</td>\n",
              "      <td>...</td>\n",
              "      <td>...</td>\n",
              "      <td>...</td>\n",
              "      <td>...</td>\n",
              "      <td>...</td>\n",
              "      <td>...</td>\n",
              "      <td>...</td>\n",
              "      <td>...</td>\n",
              "      <td>...</td>\n",
              "    </tr>\n",
              "    <tr>\n",
              "      <th>24867</th>\n",
              "      <td>Application_742991529</td>\n",
              "      <td>2016-10-15</td>\n",
              "      <td>2016-10-26</td>\n",
              "      <td>10</td>\n",
              "      <td>2016</td>\n",
              "      <td>2</td>\n",
              "      <td>4</td>\n",
              "      <td>201643</td>\n",
              "      <td>2016-10-21</td>\n",
              "      <td>False</td>\n",
              "    </tr>\n",
              "    <tr>\n",
              "      <th>24868</th>\n",
              "      <td>Application_562058851</td>\n",
              "      <td>2016-10-15</td>\n",
              "      <td>2016-10-24</td>\n",
              "      <td>10</td>\n",
              "      <td>2016</td>\n",
              "      <td>0</td>\n",
              "      <td>4</td>\n",
              "      <td>201643</td>\n",
              "      <td>2016-10-21</td>\n",
              "      <td>False</td>\n",
              "    </tr>\n",
              "    <tr>\n",
              "      <th>24869</th>\n",
              "      <td>Application_2006713022</td>\n",
              "      <td>2016-10-15</td>\n",
              "      <td>2016-11-14</td>\n",
              "      <td>11</td>\n",
              "      <td>2016</td>\n",
              "      <td>0</td>\n",
              "      <td>4</td>\n",
              "      <td>201646</td>\n",
              "      <td>2016-10-21</td>\n",
              "      <td>False</td>\n",
              "    </tr>\n",
              "    <tr>\n",
              "      <th>24870</th>\n",
              "      <td>Application_1829753798</td>\n",
              "      <td>2016-10-15</td>\n",
              "      <td>2016-10-28</td>\n",
              "      <td>10</td>\n",
              "      <td>2016</td>\n",
              "      <td>4</td>\n",
              "      <td>4</td>\n",
              "      <td>201643</td>\n",
              "      <td>2016-10-21</td>\n",
              "      <td>False</td>\n",
              "    </tr>\n",
              "    <tr>\n",
              "      <th>24871</th>\n",
              "      <td>Application_518624776</td>\n",
              "      <td>2016-10-15</td>\n",
              "      <td>2016-11-17</td>\n",
              "      <td>11</td>\n",
              "      <td>2016</td>\n",
              "      <td>3</td>\n",
              "      <td>4</td>\n",
              "      <td>201646</td>\n",
              "      <td>2016-10-21</td>\n",
              "      <td>False</td>\n",
              "    </tr>\n",
              "  </tbody>\n",
              "</table>\n",
              "<p>24872 rows × 10 columns</p>\n",
              "</div>"
            ],
            "text/plain": [
              "            case_concept_name  start_date  ... finished_week  label\n",
              "0       Application_652823628  2016-01-01  ...    2016-01-07  False\n",
              "1      Application_1691306052  2016-01-01  ...    2016-01-07   True\n",
              "2       Application_428409768  2016-01-01  ...    2016-01-07  False\n",
              "3      Application_1746793196  2016-01-01  ...    2016-01-07  False\n",
              "4       Application_828200680  2016-01-01  ...    2016-01-07  False\n",
              "...                       ...         ...  ...           ...    ...\n",
              "24867   Application_742991529  2016-10-15  ...    2016-10-21  False\n",
              "24868   Application_562058851  2016-10-15  ...    2016-10-21  False\n",
              "24869  Application_2006713022  2016-10-15  ...    2016-10-21  False\n",
              "24870  Application_1829753798  2016-10-15  ...    2016-10-21  False\n",
              "24871   Application_518624776  2016-10-15  ...    2016-10-21  False\n",
              "\n",
              "[24872 rows x 10 columns]"
            ]
          },
          "metadata": {
            "tags": []
          },
          "execution_count": 19
        }
      ]
    },
    {
      "cell_type": "markdown",
      "metadata": {
        "id": "QNdrf6xNjhfO",
        "colab_type": "text"
      },
      "source": [
        "###Merge entre datasets"
      ]
    },
    {
      "cell_type": "code",
      "metadata": {
        "id": "TyMWMYSDjxYJ",
        "colab_type": "code",
        "colab": {
          "base_uri": "https://localhost:8080/",
          "height": 573
        },
        "outputId": "3f1a8cf8-1c08-4e49-8f63-eaf17b8c1352"
      },
      "source": [
        "apps_duration = pd.merge(df, application_df, how='inner', on='case_concept_name')\n",
        "apps_duration.drop_duplicates(inplace=True)\n",
        "apps_duration"
      ],
      "execution_count": 27,
      "outputs": [
        {
          "output_type": "execute_result",
          "data": {
            "text/html": [
              "<div>\n",
              "<style scoped>\n",
              "    .dataframe tbody tr th:only-of-type {\n",
              "        vertical-align: middle;\n",
              "    }\n",
              "\n",
              "    .dataframe tbody tr th {\n",
              "        vertical-align: top;\n",
              "    }\n",
              "\n",
              "    .dataframe thead th {\n",
              "        text-align: right;\n",
              "    }\n",
              "</style>\n",
              "<table border=\"1\" class=\"dataframe\">\n",
              "  <thead>\n",
              "    <tr style=\"text-align: right;\">\n",
              "      <th></th>\n",
              "      <th>case_concept_name</th>\n",
              "      <th>start_date</th>\n",
              "      <th>end_date</th>\n",
              "      <th>month</th>\n",
              "      <th>year</th>\n",
              "      <th>day_week</th>\n",
              "      <th>period_of_the_year</th>\n",
              "      <th>week</th>\n",
              "      <th>finished_week</th>\n",
              "      <th>label</th>\n",
              "      <th>action</th>\n",
              "      <th>org_resource</th>\n",
              "      <th>concept_name</th>\n",
              "      <th>event_origin</th>\n",
              "      <th>event_id</th>\n",
              "      <th>lifecycle_transition</th>\n",
              "      <th>time_timestamp</th>\n",
              "      <th>case_loan_goal</th>\n",
              "      <th>case_application_type</th>\n",
              "      <th>case_requested_amount</th>\n",
              "      <th>first_withdrawal_amount</th>\n",
              "      <th>number_of_terms</th>\n",
              "      <th>accepted</th>\n",
              "      <th>monthly_cost</th>\n",
              "      <th>selected</th>\n",
              "      <th>credit_score</th>\n",
              "      <th>offered_amount</th>\n",
              "      <th>offer_id</th>\n",
              "      <th>datetime</th>\n",
              "    </tr>\n",
              "  </thead>\n",
              "  <tbody>\n",
              "    <tr>\n",
              "      <th>0</th>\n",
              "      <td>Application_652823628</td>\n",
              "      <td>2016-01-01</td>\n",
              "      <td>2016-01-14</td>\n",
              "      <td>1</td>\n",
              "      <td>2016</td>\n",
              "      <td>3</td>\n",
              "      <td>1</td>\n",
              "      <td>201602</td>\n",
              "      <td>2016-01-07</td>\n",
              "      <td>False</td>\n",
              "      <td>Created</td>\n",
              "      <td>User_1</td>\n",
              "      <td>A_Create Application</td>\n",
              "      <td>Application</td>\n",
              "      <td>Application_652823628</td>\n",
              "      <td>complete</td>\n",
              "      <td>2016-01-01 09:51:15.304000+00:00</td>\n",
              "      <td>Existing loan takeover</td>\n",
              "      <td>New credit</td>\n",
              "      <td>20000.0</td>\n",
              "      <td>NaN</td>\n",
              "      <td>NaN</td>\n",
              "      <td>NaN</td>\n",
              "      <td>NaN</td>\n",
              "      <td>NaN</td>\n",
              "      <td>NaN</td>\n",
              "      <td>NaN</td>\n",
              "      <td>NaN</td>\n",
              "      <td>2016-01-01 09:51:15.304000+00:00</td>\n",
              "    </tr>\n",
              "    <tr>\n",
              "      <th>1</th>\n",
              "      <td>Application_652823628</td>\n",
              "      <td>2016-01-01</td>\n",
              "      <td>2016-01-14</td>\n",
              "      <td>1</td>\n",
              "      <td>2016</td>\n",
              "      <td>3</td>\n",
              "      <td>1</td>\n",
              "      <td>201602</td>\n",
              "      <td>2016-01-07</td>\n",
              "      <td>False</td>\n",
              "      <td>statechange</td>\n",
              "      <td>User_1</td>\n",
              "      <td>A_Submitted</td>\n",
              "      <td>Application</td>\n",
              "      <td>ApplState_1582051990</td>\n",
              "      <td>complete</td>\n",
              "      <td>2016-01-01 09:51:15.352000+00:00</td>\n",
              "      <td>Existing loan takeover</td>\n",
              "      <td>New credit</td>\n",
              "      <td>20000.0</td>\n",
              "      <td>NaN</td>\n",
              "      <td>NaN</td>\n",
              "      <td>NaN</td>\n",
              "      <td>NaN</td>\n",
              "      <td>NaN</td>\n",
              "      <td>NaN</td>\n",
              "      <td>NaN</td>\n",
              "      <td>NaN</td>\n",
              "      <td>2016-01-01 09:51:15.352000+00:00</td>\n",
              "    </tr>\n",
              "    <tr>\n",
              "      <th>2</th>\n",
              "      <td>Application_652823628</td>\n",
              "      <td>2016-01-01</td>\n",
              "      <td>2016-01-14</td>\n",
              "      <td>1</td>\n",
              "      <td>2016</td>\n",
              "      <td>3</td>\n",
              "      <td>1</td>\n",
              "      <td>201602</td>\n",
              "      <td>2016-01-07</td>\n",
              "      <td>False</td>\n",
              "      <td>Created</td>\n",
              "      <td>User_1</td>\n",
              "      <td>W_Handle leads</td>\n",
              "      <td>Workflow</td>\n",
              "      <td>Workitem_1298499574</td>\n",
              "      <td>schedule</td>\n",
              "      <td>2016-01-01 09:51:15.774000+00:00</td>\n",
              "      <td>Existing loan takeover</td>\n",
              "      <td>New credit</td>\n",
              "      <td>20000.0</td>\n",
              "      <td>NaN</td>\n",
              "      <td>NaN</td>\n",
              "      <td>NaN</td>\n",
              "      <td>NaN</td>\n",
              "      <td>NaN</td>\n",
              "      <td>NaN</td>\n",
              "      <td>NaN</td>\n",
              "      <td>NaN</td>\n",
              "      <td>2016-01-01 09:51:15.774000+00:00</td>\n",
              "    </tr>\n",
              "    <tr>\n",
              "      <th>3</th>\n",
              "      <td>Application_652823628</td>\n",
              "      <td>2016-01-01</td>\n",
              "      <td>2016-01-14</td>\n",
              "      <td>1</td>\n",
              "      <td>2016</td>\n",
              "      <td>3</td>\n",
              "      <td>1</td>\n",
              "      <td>201602</td>\n",
              "      <td>2016-01-07</td>\n",
              "      <td>False</td>\n",
              "      <td>Deleted</td>\n",
              "      <td>User_1</td>\n",
              "      <td>W_Handle leads</td>\n",
              "      <td>Workflow</td>\n",
              "      <td>Workitem_1673366067</td>\n",
              "      <td>withdraw</td>\n",
              "      <td>2016-01-01 09:52:36.392000+00:00</td>\n",
              "      <td>Existing loan takeover</td>\n",
              "      <td>New credit</td>\n",
              "      <td>20000.0</td>\n",
              "      <td>NaN</td>\n",
              "      <td>NaN</td>\n",
              "      <td>NaN</td>\n",
              "      <td>NaN</td>\n",
              "      <td>NaN</td>\n",
              "      <td>NaN</td>\n",
              "      <td>NaN</td>\n",
              "      <td>NaN</td>\n",
              "      <td>2016-01-01 09:52:36.392000+00:00</td>\n",
              "    </tr>\n",
              "    <tr>\n",
              "      <th>4</th>\n",
              "      <td>Application_652823628</td>\n",
              "      <td>2016-01-01</td>\n",
              "      <td>2016-01-14</td>\n",
              "      <td>1</td>\n",
              "      <td>2016</td>\n",
              "      <td>3</td>\n",
              "      <td>1</td>\n",
              "      <td>201602</td>\n",
              "      <td>2016-01-07</td>\n",
              "      <td>False</td>\n",
              "      <td>Created</td>\n",
              "      <td>User_1</td>\n",
              "      <td>W_Complete application</td>\n",
              "      <td>Workflow</td>\n",
              "      <td>Workitem_1493664571</td>\n",
              "      <td>schedule</td>\n",
              "      <td>2016-01-01 09:52:36.403000+00:00</td>\n",
              "      <td>Existing loan takeover</td>\n",
              "      <td>New credit</td>\n",
              "      <td>20000.0</td>\n",
              "      <td>NaN</td>\n",
              "      <td>NaN</td>\n",
              "      <td>NaN</td>\n",
              "      <td>NaN</td>\n",
              "      <td>NaN</td>\n",
              "      <td>NaN</td>\n",
              "      <td>NaN</td>\n",
              "      <td>NaN</td>\n",
              "      <td>2016-01-01 09:52:36.403000+00:00</td>\n",
              "    </tr>\n",
              "    <tr>\n",
              "      <th>...</th>\n",
              "      <td>...</td>\n",
              "      <td>...</td>\n",
              "      <td>...</td>\n",
              "      <td>...</td>\n",
              "      <td>...</td>\n",
              "      <td>...</td>\n",
              "      <td>...</td>\n",
              "      <td>...</td>\n",
              "      <td>...</td>\n",
              "      <td>...</td>\n",
              "      <td>...</td>\n",
              "      <td>...</td>\n",
              "      <td>...</td>\n",
              "      <td>...</td>\n",
              "      <td>...</td>\n",
              "      <td>...</td>\n",
              "      <td>...</td>\n",
              "      <td>...</td>\n",
              "      <td>...</td>\n",
              "      <td>...</td>\n",
              "      <td>...</td>\n",
              "      <td>...</td>\n",
              "      <td>...</td>\n",
              "      <td>...</td>\n",
              "      <td>...</td>\n",
              "      <td>...</td>\n",
              "      <td>...</td>\n",
              "      <td>...</td>\n",
              "      <td>...</td>\n",
              "    </tr>\n",
              "    <tr>\n",
              "      <th>949062</th>\n",
              "      <td>Application_518624776</td>\n",
              "      <td>2016-10-15</td>\n",
              "      <td>2016-11-17</td>\n",
              "      <td>11</td>\n",
              "      <td>2016</td>\n",
              "      <td>3</td>\n",
              "      <td>4</td>\n",
              "      <td>201646</td>\n",
              "      <td>2016-10-21</td>\n",
              "      <td>False</td>\n",
              "      <td>Obtained</td>\n",
              "      <td>User_3</td>\n",
              "      <td>W_Call after offers</td>\n",
              "      <td>Workflow</td>\n",
              "      <td>Workitem_479995768</td>\n",
              "      <td>resume</td>\n",
              "      <td>2016-10-21 11:24:59.706000+00:00</td>\n",
              "      <td>Home improvement</td>\n",
              "      <td>Limit raise</td>\n",
              "      <td>7000.0</td>\n",
              "      <td>NaN</td>\n",
              "      <td>NaN</td>\n",
              "      <td>NaN</td>\n",
              "      <td>NaN</td>\n",
              "      <td>NaN</td>\n",
              "      <td>NaN</td>\n",
              "      <td>NaN</td>\n",
              "      <td>NaN</td>\n",
              "      <td>2016-10-21 11:24:59.706000+00:00</td>\n",
              "    </tr>\n",
              "    <tr>\n",
              "      <th>949063</th>\n",
              "      <td>Application_518624776</td>\n",
              "      <td>2016-10-15</td>\n",
              "      <td>2016-11-17</td>\n",
              "      <td>11</td>\n",
              "      <td>2016</td>\n",
              "      <td>3</td>\n",
              "      <td>4</td>\n",
              "      <td>201646</td>\n",
              "      <td>2016-10-21</td>\n",
              "      <td>False</td>\n",
              "      <td>Released</td>\n",
              "      <td>User_3</td>\n",
              "      <td>W_Call after offers</td>\n",
              "      <td>Workflow</td>\n",
              "      <td>Workitem_1577865055</td>\n",
              "      <td>suspend</td>\n",
              "      <td>2016-10-21 11:25:21.669000+00:00</td>\n",
              "      <td>Home improvement</td>\n",
              "      <td>Limit raise</td>\n",
              "      <td>7000.0</td>\n",
              "      <td>NaN</td>\n",
              "      <td>NaN</td>\n",
              "      <td>NaN</td>\n",
              "      <td>NaN</td>\n",
              "      <td>NaN</td>\n",
              "      <td>NaN</td>\n",
              "      <td>NaN</td>\n",
              "      <td>NaN</td>\n",
              "      <td>2016-10-21 11:25:21.669000+00:00</td>\n",
              "    </tr>\n",
              "    <tr>\n",
              "      <th>949064</th>\n",
              "      <td>Application_518624776</td>\n",
              "      <td>2016-10-15</td>\n",
              "      <td>2016-11-17</td>\n",
              "      <td>11</td>\n",
              "      <td>2016</td>\n",
              "      <td>3</td>\n",
              "      <td>4</td>\n",
              "      <td>201646</td>\n",
              "      <td>2016-10-21</td>\n",
              "      <td>False</td>\n",
              "      <td>statechange</td>\n",
              "      <td>User_1</td>\n",
              "      <td>A_Cancelled</td>\n",
              "      <td>Application</td>\n",
              "      <td>ApplState_971189043</td>\n",
              "      <td>complete</td>\n",
              "      <td>2016-11-17 07:00:26.477000+00:00</td>\n",
              "      <td>Home improvement</td>\n",
              "      <td>Limit raise</td>\n",
              "      <td>7000.0</td>\n",
              "      <td>NaN</td>\n",
              "      <td>NaN</td>\n",
              "      <td>NaN</td>\n",
              "      <td>NaN</td>\n",
              "      <td>NaN</td>\n",
              "      <td>NaN</td>\n",
              "      <td>NaN</td>\n",
              "      <td>NaN</td>\n",
              "      <td>2016-11-17 07:00:26.477000+00:00</td>\n",
              "    </tr>\n",
              "    <tr>\n",
              "      <th>949065</th>\n",
              "      <td>Application_518624776</td>\n",
              "      <td>2016-10-15</td>\n",
              "      <td>2016-11-17</td>\n",
              "      <td>11</td>\n",
              "      <td>2016</td>\n",
              "      <td>3</td>\n",
              "      <td>4</td>\n",
              "      <td>201646</td>\n",
              "      <td>2016-10-21</td>\n",
              "      <td>False</td>\n",
              "      <td>statechange</td>\n",
              "      <td>User_1</td>\n",
              "      <td>O_Cancelled</td>\n",
              "      <td>Offer</td>\n",
              "      <td>OfferState_329375107</td>\n",
              "      <td>complete</td>\n",
              "      <td>2016-11-17 07:00:26.496000+00:00</td>\n",
              "      <td>Home improvement</td>\n",
              "      <td>Limit raise</td>\n",
              "      <td>7000.0</td>\n",
              "      <td>NaN</td>\n",
              "      <td>NaN</td>\n",
              "      <td>NaN</td>\n",
              "      <td>NaN</td>\n",
              "      <td>NaN</td>\n",
              "      <td>NaN</td>\n",
              "      <td>NaN</td>\n",
              "      <td>Offer_1167731298</td>\n",
              "      <td>2016-11-17 07:00:26.496000+00:00</td>\n",
              "    </tr>\n",
              "    <tr>\n",
              "      <th>949066</th>\n",
              "      <td>Application_518624776</td>\n",
              "      <td>2016-10-15</td>\n",
              "      <td>2016-11-17</td>\n",
              "      <td>11</td>\n",
              "      <td>2016</td>\n",
              "      <td>3</td>\n",
              "      <td>4</td>\n",
              "      <td>201646</td>\n",
              "      <td>2016-10-21</td>\n",
              "      <td>False</td>\n",
              "      <td>Deleted</td>\n",
              "      <td>User_1</td>\n",
              "      <td>W_Call after offers</td>\n",
              "      <td>Workflow</td>\n",
              "      <td>Workitem_1898700009</td>\n",
              "      <td>ate_abort</td>\n",
              "      <td>2016-11-17 07:00:26.504000+00:00</td>\n",
              "      <td>Home improvement</td>\n",
              "      <td>Limit raise</td>\n",
              "      <td>7000.0</td>\n",
              "      <td>NaN</td>\n",
              "      <td>NaN</td>\n",
              "      <td>NaN</td>\n",
              "      <td>NaN</td>\n",
              "      <td>NaN</td>\n",
              "      <td>NaN</td>\n",
              "      <td>NaN</td>\n",
              "      <td>NaN</td>\n",
              "      <td>2016-11-17 07:00:26.504000+00:00</td>\n",
              "    </tr>\n",
              "  </tbody>\n",
              "</table>\n",
              "<p>949067 rows × 29 columns</p>\n",
              "</div>"
            ],
            "text/plain": [
              "            case_concept_name  ...                         datetime\n",
              "0       Application_652823628  ... 2016-01-01 09:51:15.304000+00:00\n",
              "1       Application_652823628  ... 2016-01-01 09:51:15.352000+00:00\n",
              "2       Application_652823628  ... 2016-01-01 09:51:15.774000+00:00\n",
              "3       Application_652823628  ... 2016-01-01 09:52:36.392000+00:00\n",
              "4       Application_652823628  ... 2016-01-01 09:52:36.403000+00:00\n",
              "...                       ...  ...                              ...\n",
              "949062  Application_518624776  ... 2016-10-21 11:24:59.706000+00:00\n",
              "949063  Application_518624776  ... 2016-10-21 11:25:21.669000+00:00\n",
              "949064  Application_518624776  ... 2016-11-17 07:00:26.477000+00:00\n",
              "949065  Application_518624776  ... 2016-11-17 07:00:26.496000+00:00\n",
              "949066  Application_518624776  ... 2016-11-17 07:00:26.504000+00:00\n",
              "\n",
              "[949067 rows x 29 columns]"
            ]
          },
          "metadata": {
            "tags": []
          },
          "execution_count": 27
        }
      ]
    },
    {
      "cell_type": "markdown",
      "metadata": {
        "id": "MEk8Z9GJH_pC",
        "colab_type": "text"
      },
      "source": [
        "###**Functions Windows**"
      ]
    },
    {
      "cell_type": "markdown",
      "metadata": {
        "id": "Asq_fzNfeO-v",
        "colab_type": "text"
      },
      "source": [
        "# Classification\n",
        "\n",
        "##Question: If the application was completed in the week?"
      ]
    },
    {
      "cell_type": "code",
      "metadata": {
        "id": "q-dclO87eRyU",
        "colab_type": "code",
        "colab": {
          "base_uri": "https://localhost:8080/",
          "height": 391
        },
        "outputId": "ceca4879-f7d1-4fa5-b3d6-55932b9b1984"
      },
      "source": [
        "copy_df = apps_duration[['case_concept_name',\t'start_date',\t'end_date',\t'month',\t'year',\t'day_week',\t'period_of_the_year',\t'label']].copy(deep=True)\n",
        "\n",
        "copy_df.dropna(inplace=True)\n",
        "copy_df.drop_duplicates(inplace=True)\n",
        "\n",
        "copy_df"
      ],
      "execution_count": 31,
      "outputs": [
        {
          "output_type": "execute_result",
          "data": {
            "text/html": [
              "<div>\n",
              "<style scoped>\n",
              "    .dataframe tbody tr th:only-of-type {\n",
              "        vertical-align: middle;\n",
              "    }\n",
              "\n",
              "    .dataframe tbody tr th {\n",
              "        vertical-align: top;\n",
              "    }\n",
              "\n",
              "    .dataframe thead th {\n",
              "        text-align: right;\n",
              "    }\n",
              "</style>\n",
              "<table border=\"1\" class=\"dataframe\">\n",
              "  <thead>\n",
              "    <tr style=\"text-align: right;\">\n",
              "      <th></th>\n",
              "      <th>case_concept_name</th>\n",
              "      <th>start_date</th>\n",
              "      <th>end_date</th>\n",
              "      <th>month</th>\n",
              "      <th>year</th>\n",
              "      <th>day_week</th>\n",
              "      <th>period_of_the_year</th>\n",
              "      <th>label</th>\n",
              "    </tr>\n",
              "  </thead>\n",
              "  <tbody>\n",
              "    <tr>\n",
              "      <th>0</th>\n",
              "      <td>Application_652823628</td>\n",
              "      <td>2016-01-01</td>\n",
              "      <td>2016-01-14</td>\n",
              "      <td>1</td>\n",
              "      <td>2016</td>\n",
              "      <td>3</td>\n",
              "      <td>1</td>\n",
              "      <td>False</td>\n",
              "    </tr>\n",
              "    <tr>\n",
              "      <th>40</th>\n",
              "      <td>Application_1691306052</td>\n",
              "      <td>2016-01-01</td>\n",
              "      <td>2016-01-07</td>\n",
              "      <td>1</td>\n",
              "      <td>2016</td>\n",
              "      <td>3</td>\n",
              "      <td>1</td>\n",
              "      <td>True</td>\n",
              "    </tr>\n",
              "    <tr>\n",
              "      <th>71</th>\n",
              "      <td>Application_428409768</td>\n",
              "      <td>2016-01-01</td>\n",
              "      <td>2016-01-14</td>\n",
              "      <td>1</td>\n",
              "      <td>2016</td>\n",
              "      <td>3</td>\n",
              "      <td>1</td>\n",
              "      <td>False</td>\n",
              "    </tr>\n",
              "    <tr>\n",
              "      <th>116</th>\n",
              "      <td>Application_1746793196</td>\n",
              "      <td>2016-01-01</td>\n",
              "      <td>2016-01-28</td>\n",
              "      <td>1</td>\n",
              "      <td>2016</td>\n",
              "      <td>3</td>\n",
              "      <td>1</td>\n",
              "      <td>False</td>\n",
              "    </tr>\n",
              "    <tr>\n",
              "      <th>200</th>\n",
              "      <td>Application_828200680</td>\n",
              "      <td>2016-01-01</td>\n",
              "      <td>2016-02-02</td>\n",
              "      <td>2</td>\n",
              "      <td>2016</td>\n",
              "      <td>1</td>\n",
              "      <td>1</td>\n",
              "      <td>False</td>\n",
              "    </tr>\n",
              "    <tr>\n",
              "      <th>...</th>\n",
              "      <td>...</td>\n",
              "      <td>...</td>\n",
              "      <td>...</td>\n",
              "      <td>...</td>\n",
              "      <td>...</td>\n",
              "      <td>...</td>\n",
              "      <td>...</td>\n",
              "      <td>...</td>\n",
              "    </tr>\n",
              "    <tr>\n",
              "      <th>948882</th>\n",
              "      <td>Application_742991529</td>\n",
              "      <td>2016-10-15</td>\n",
              "      <td>2016-10-26</td>\n",
              "      <td>10</td>\n",
              "      <td>2016</td>\n",
              "      <td>2</td>\n",
              "      <td>4</td>\n",
              "      <td>False</td>\n",
              "    </tr>\n",
              "    <tr>\n",
              "      <th>948909</th>\n",
              "      <td>Application_562058851</td>\n",
              "      <td>2016-10-15</td>\n",
              "      <td>2016-10-24</td>\n",
              "      <td>10</td>\n",
              "      <td>2016</td>\n",
              "      <td>0</td>\n",
              "      <td>4</td>\n",
              "      <td>False</td>\n",
              "    </tr>\n",
              "    <tr>\n",
              "      <th>948961</th>\n",
              "      <td>Application_2006713022</td>\n",
              "      <td>2016-10-15</td>\n",
              "      <td>2016-11-14</td>\n",
              "      <td>11</td>\n",
              "      <td>2016</td>\n",
              "      <td>0</td>\n",
              "      <td>4</td>\n",
              "      <td>False</td>\n",
              "    </tr>\n",
              "    <tr>\n",
              "      <th>949007</th>\n",
              "      <td>Application_1829753798</td>\n",
              "      <td>2016-10-15</td>\n",
              "      <td>2016-10-28</td>\n",
              "      <td>10</td>\n",
              "      <td>2016</td>\n",
              "      <td>4</td>\n",
              "      <td>4</td>\n",
              "      <td>False</td>\n",
              "    </tr>\n",
              "    <tr>\n",
              "      <th>949046</th>\n",
              "      <td>Application_518624776</td>\n",
              "      <td>2016-10-15</td>\n",
              "      <td>2016-11-17</td>\n",
              "      <td>11</td>\n",
              "      <td>2016</td>\n",
              "      <td>3</td>\n",
              "      <td>4</td>\n",
              "      <td>False</td>\n",
              "    </tr>\n",
              "  </tbody>\n",
              "</table>\n",
              "<p>24872 rows × 8 columns</p>\n",
              "</div>"
            ],
            "text/plain": [
              "             case_concept_name  start_date  ... period_of_the_year  label\n",
              "0        Application_652823628  2016-01-01  ...                  1  False\n",
              "40      Application_1691306052  2016-01-01  ...                  1   True\n",
              "71       Application_428409768  2016-01-01  ...                  1  False\n",
              "116     Application_1746793196  2016-01-01  ...                  1  False\n",
              "200      Application_828200680  2016-01-01  ...                  1  False\n",
              "...                        ...         ...  ...                ...    ...\n",
              "948882   Application_742991529  2016-10-15  ...                  4  False\n",
              "948909   Application_562058851  2016-10-15  ...                  4  False\n",
              "948961  Application_2006713022  2016-10-15  ...                  4  False\n",
              "949007  Application_1829753798  2016-10-15  ...                  4  False\n",
              "949046   Application_518624776  2016-10-15  ...                  4  False\n",
              "\n",
              "[24872 rows x 8 columns]"
            ]
          },
          "metadata": {
            "tags": []
          },
          "execution_count": 31
        }
      ]
    },
    {
      "cell_type": "code",
      "metadata": {
        "id": "jmg2NXvP6z6h",
        "colab_type": "code",
        "colab": {
          "base_uri": "https://localhost:8080/",
          "height": 163
        },
        "outputId": "a5a95b8a-5847-4ad0-c935-dff046a8f0c9"
      },
      "source": [
        "copy_df = copy_df.fillna(0)\n",
        "copy_df.isnull().sum().sort_values(ascending=False)"
      ],
      "execution_count": 32,
      "outputs": [
        {
          "output_type": "execute_result",
          "data": {
            "text/plain": [
              "label                 0\n",
              "period_of_the_year    0\n",
              "day_week              0\n",
              "year                  0\n",
              "month                 0\n",
              "end_date              0\n",
              "start_date            0\n",
              "case_concept_name     0\n",
              "dtype: int64"
            ]
          },
          "metadata": {
            "tags": []
          },
          "execution_count": 32
        }
      ]
    },
    {
      "cell_type": "code",
      "metadata": {
        "id": "LG4hBNyfo_Dv",
        "colab_type": "code",
        "colab": {}
      },
      "source": [
        "#Format Date\n",
        "copy_df['start_date'] = pd.to_datetime(copy_df.start_date)\n",
        "copy_df['start_date'] = copy_df['start_date'].dt.strftime('%G%V')\n",
        "\n",
        "x = copy_df[['start_date',\t'month',\t'year',\t'period_of_the_year']];\n",
        "\n",
        "y= copy_df[['label']].astype('int');\n",
        "\n",
        "#splitting data in train and test sets (70/30)\n",
        "x_train, x_test, y_train, y_test = train_test_split(x, y, test_size=0.3)"
      ],
      "execution_count": 33,
      "outputs": []
    },
    {
      "cell_type": "code",
      "metadata": {
        "colab_type": "code",
        "id": "jkJZyhqwhyQy",
        "colab": {
          "base_uri": "https://localhost:8080/",
          "height": 163
        },
        "outputId": "8307005f-dd12-42df-995f-f91ebacb0214"
      },
      "source": [
        "copy_df = copy_df.fillna(0)\n",
        "copy_df.isnull().sum().sort_values(ascending=False)"
      ],
      "execution_count": 34,
      "outputs": [
        {
          "output_type": "execute_result",
          "data": {
            "text/plain": [
              "label                 0\n",
              "period_of_the_year    0\n",
              "day_week              0\n",
              "year                  0\n",
              "month                 0\n",
              "end_date              0\n",
              "start_date            0\n",
              "case_concept_name     0\n",
              "dtype: int64"
            ]
          },
          "metadata": {
            "tags": []
          },
          "execution_count": 34
        }
      ]
    },
    {
      "cell_type": "markdown",
      "metadata": {
        "id": "lbF4E5CW3ljY",
        "colab_type": "text"
      },
      "source": [
        "###Function Model Accuracy"
      ]
    },
    {
      "cell_type": "code",
      "metadata": {
        "id": "k4Q09DQR3mXb",
        "colab_type": "code",
        "colab": {}
      },
      "source": [
        "def get_model_accuracy(clf_name, clf):\n",
        "    training_accry = clf.score(x_train, y_train)\n",
        "    test_accry = clf.score(x_test, y_test)\n",
        "\n",
        "    clf_str = 'Acurracy of {} classifer on'.format(clf_name)\n",
        "    model_acurracy_str = '{} {} set {:.2f}\\n{} {} set {:.2f}'.format(\n",
        "        clf_str, 'training', training_accry, clf_str, 'test', test_accry)\n",
        "\n",
        "    return model_acurracy_str"
      ],
      "execution_count": 36,
      "outputs": []
    },
    {
      "cell_type": "markdown",
      "metadata": {
        "id": "3gM-zx8kxe67",
        "colab_type": "text"
      },
      "source": [
        "####Logic Regression"
      ]
    },
    {
      "cell_type": "code",
      "metadata": {
        "id": "O8q4SJ4LxUtK",
        "colab_type": "code",
        "colab": {
          "base_uri": "https://localhost:8080/",
          "height": 102
        },
        "outputId": "73cb6c26-e9c7-435b-cba5-cb024bdcd7a1"
      },
      "source": [
        "logreg = LogisticRegression()\n",
        "logreg.fit(x_train, y_train)\n",
        "\n",
        "print(get_model_accuracy('Logistic Regression', logreg))"
      ],
      "execution_count": null,
      "outputs": [
        {
          "output_type": "stream",
          "text": [
            "Acurracy of Logistic Regression classifer on training set 0.95\n",
            "Acurracy of Logistic Regression classifer on test set 0.95\n"
          ],
          "name": "stdout"
        },
        {
          "output_type": "stream",
          "text": [
            "/usr/local/lib/python3.6/dist-packages/sklearn/utils/validation.py:760: DataConversionWarning: A column-vector y was passed when a 1d array was expected. Please change the shape of y to (n_samples, ), for example using ravel().\n",
            "  y = column_or_1d(y, warn=True)\n"
          ],
          "name": "stderr"
        }
      ]
    },
    {
      "cell_type": "markdown",
      "metadata": {
        "id": "cyjnnVNT39OH",
        "colab_type": "text"
      },
      "source": [
        "###Random Forest"
      ]
    },
    {
      "cell_type": "code",
      "metadata": {
        "id": "zCvEHPUmpENO",
        "colab_type": "code",
        "colab": {
          "base_uri": "https://localhost:8080/",
          "height": 102
        },
        "outputId": "42b518a0-9fb1-4e04-8a32-94555fef6726"
      },
      "source": [
        "clf = RandomForestClassifier(n_estimators=100, random_state=0)\n",
        "\n",
        "#Train the model using \n",
        "clf.fit(x_train,y_train)\n",
        "\n",
        "y_pred=clf.predict(x_test)\n",
        "\n",
        "print(get_model_accuracy('Logistic Regression', clf))"
      ],
      "execution_count": 37,
      "outputs": [
        {
          "output_type": "stream",
          "text": [
            "/usr/local/lib/python3.6/dist-packages/ipykernel_launcher.py:4: DataConversionWarning: A column-vector y was passed when a 1d array was expected. Please change the shape of y to (n_samples,), for example using ravel().\n",
            "  after removing the cwd from sys.path.\n"
          ],
          "name": "stderr"
        },
        {
          "output_type": "stream",
          "text": [
            "Acurracy of Logistic Regression classifer on training set 0.95\n",
            "Acurracy of Logistic Regression classifer on test set 0.96\n"
          ],
          "name": "stdout"
        }
      ]
    },
    {
      "cell_type": "markdown",
      "metadata": {
        "id": "xrN0mwvL4QI-",
        "colab_type": "text"
      },
      "source": [
        "###Decision Tree"
      ]
    },
    {
      "cell_type": "code",
      "metadata": {
        "id": "X3k6Sqcv4Tou",
        "colab_type": "code",
        "colab": {
          "base_uri": "https://localhost:8080/",
          "height": 50
        },
        "outputId": "f53fae3e-0159-4b37-e1e7-d266f967e802"
      },
      "source": [
        "clf = DecisionTreeClassifier().fit(x_train, y_train)\n",
        "\n",
        "print(get_model_accuracy('Decision Tree', clf))"
      ],
      "execution_count": null,
      "outputs": [
        {
          "output_type": "stream",
          "text": [
            "Acurracy of Decision Tree classifer on training set 0.95\n",
            "Acurracy of Decision Tree classifer on test set 0.95\n"
          ],
          "name": "stdout"
        }
      ]
    },
    {
      "cell_type": "markdown",
      "metadata": {
        "id": "s-e1eu0F4hZd",
        "colab_type": "text"
      },
      "source": [
        "###K-Nearest Neighbors"
      ]
    },
    {
      "cell_type": "code",
      "metadata": {
        "id": "UEx5b7T44j54",
        "colab_type": "code",
        "colab": {
          "base_uri": "https://localhost:8080/",
          "height": 102
        },
        "outputId": "66a53dbe-ed2a-44c4-8110-11e84d45a7e6"
      },
      "source": [
        "knn = KNeighborsClassifier()\n",
        "knn.fit(x_train, y_train)\n",
        "\n",
        "print(get_model_accuracy('K-NN', knn))"
      ],
      "execution_count": null,
      "outputs": [
        {
          "output_type": "stream",
          "text": [
            "/usr/local/lib/python3.6/dist-packages/ipykernel_launcher.py:2: DataConversionWarning: A column-vector y was passed when a 1d array was expected. Please change the shape of y to (n_samples, ), for example using ravel().\n",
            "  \n"
          ],
          "name": "stderr"
        },
        {
          "output_type": "stream",
          "text": [
            "Acurracy of K-NN classifer on training set 0.95\n",
            "Acurracy of K-NN classifer on test set 0.94\n"
          ],
          "name": "stdout"
        }
      ]
    },
    {
      "cell_type": "markdown",
      "metadata": {
        "id": "zsX3LTa34oU5",
        "colab_type": "text"
      },
      "source": [
        "###Linear Discriminant Analysis"
      ]
    },
    {
      "cell_type": "code",
      "metadata": {
        "id": "ivxELRFl4q_8",
        "colab_type": "code",
        "colab": {
          "base_uri": "https://localhost:8080/",
          "height": 102
        },
        "outputId": "ae203dac-d42e-435a-c960-fb5e45bb5036"
      },
      "source": [
        "lda = LinearDiscriminantAnalysis()\n",
        "lda.fit(x_train, y_train)\n",
        "\n",
        "print(get_model_accuracy('LDA', lda))"
      ],
      "execution_count": null,
      "outputs": [
        {
          "output_type": "stream",
          "text": [
            "Acurracy of LDA classifer on training set 0.95\n",
            "Acurracy of LDA classifer on test set 0.95\n"
          ],
          "name": "stdout"
        },
        {
          "output_type": "stream",
          "text": [
            "/usr/local/lib/python3.6/dist-packages/sklearn/utils/validation.py:760: DataConversionWarning: A column-vector y was passed when a 1d array was expected. Please change the shape of y to (n_samples, ), for example using ravel().\n",
            "  y = column_or_1d(y, warn=True)\n"
          ],
          "name": "stderr"
        }
      ]
    },
    {
      "cell_type": "markdown",
      "metadata": {
        "id": "qmvrQY0440M2",
        "colab_type": "text"
      },
      "source": [
        "###Gaussian Naive Bayes"
      ]
    },
    {
      "cell_type": "code",
      "metadata": {
        "id": "8Rdtnl-444kJ",
        "colab_type": "code",
        "colab": {
          "base_uri": "https://localhost:8080/",
          "height": 102
        },
        "outputId": "5208b4fc-0ccc-4750-ef6e-9aeeeea2adc4"
      },
      "source": [
        "gnb = GaussianNB()\n",
        "gnb.fit(x_train, y_train)\n",
        "\n",
        "print(get_model_accuracy('GNB', gnb))"
      ],
      "execution_count": null,
      "outputs": [
        {
          "output_type": "stream",
          "text": [
            "Acurracy of GNB classifer on training set 0.95\n",
            "Acurracy of GNB classifer on test set 0.95\n"
          ],
          "name": "stdout"
        },
        {
          "output_type": "stream",
          "text": [
            "/usr/local/lib/python3.6/dist-packages/sklearn/naive_bayes.py:206: DataConversionWarning: A column-vector y was passed when a 1d array was expected. Please change the shape of y to (n_samples, ), for example using ravel().\n",
            "  y = column_or_1d(y, warn=True)\n"
          ],
          "name": "stderr"
        }
      ]
    },
    {
      "cell_type": "markdown",
      "metadata": {
        "id": "81RdCYPfZ3Fm",
        "colab_type": "text"
      },
      "source": [
        "\n",
        "###Model evaluation\n",
        "\n",
        "- Accuracy: the ratio of correctly predicted observation to the total observations\n",
        "- Precision: proportion of positive identifications that was actually correct\n",
        "- Recall: proportion of actual positives that was identified correctly\n",
        "- F1 Score: weighted average of Precision and Recall"
      ]
    },
    {
      "cell_type": "code",
      "metadata": {
        "id": "1z24Qyr6Zuqt",
        "colab_type": "code",
        "colab": {
          "base_uri": "https://localhost:8080/",
          "height": 82
        },
        "outputId": "2f9ebfd2-959c-498f-e3f9-7b8179f8e759"
      },
      "source": [
        "print('Precision score: {0:0.2f}'.format(precision_score(y_test, y_pred, average='macro')))\n",
        "print('Recall score: {0:0.2f}'.format(recall_score(y_test, y_pred, average='macro')))\n",
        "print('Average precision-recall score: {0:0.2f}'.format(average_precision_score(y_test, y_pred)))\n",
        "print('Average F1 Score score: {0:0.2f}'.format(metrics.f1_score(y_test, y_pred)))\n",
        "\n"
      ],
      "execution_count": 38,
      "outputs": [
        {
          "output_type": "stream",
          "text": [
            "Precision score: 0.91\n",
            "Recall score: 0.56\n",
            "Average precision-recall score: 0.15\n",
            "Average F1 Score score: 0.21\n"
          ],
          "name": "stdout"
        }
      ]
    },
    {
      "cell_type": "code",
      "metadata": {
        "id": "MxGGhkctbron",
        "colab_type": "code",
        "colab": {
          "base_uri": "https://localhost:8080/",
          "height": 163
        },
        "outputId": "c4cbe9cc-3949-4258-9064-601b05aa756c"
      },
      "source": [
        "from sklearn.metrics import classification_report\n",
        "print(classification_report(y_test, y_pred))"
      ],
      "execution_count": 39,
      "outputs": [
        {
          "output_type": "stream",
          "text": [
            "              precision    recall  f1-score   support\n",
            "\n",
            "           0       0.96      1.00      0.98      7092\n",
            "           1       0.87      0.12      0.21       370\n",
            "\n",
            "    accuracy                           0.96      7462\n",
            "   macro avg       0.91      0.56      0.60      7462\n",
            "weighted avg       0.95      0.96      0.94      7462\n",
            "\n"
          ],
          "name": "stdout"
        }
      ]
    },
    {
      "cell_type": "markdown",
      "metadata": {
        "id": "VvWQgOSsCqak",
        "colab_type": "text"
      },
      "source": [
        "###Confusion Matrix\n",
        "\n"
      ]
    },
    {
      "cell_type": "code",
      "metadata": {
        "id": "8cNFDmxnCwEF",
        "colab_type": "code",
        "colab": {
          "base_uri": "https://localhost:8080/",
          "height": 510
        },
        "outputId": "e8d8a4fc-e532-46e4-f7e3-0f622561b938"
      },
      "source": [
        "plt.figure(figsize=(10,8))\n",
        "ax = (sns.heatmap(metrics.confusion_matrix(y_test, y_pred), annot=True, annot_kws={\"size\": 20}, \n",
        "                 linewidths=.1, fmt='d', cmap=sns.cubehelix_palette(as_cmap=True)))\n",
        "plt.yticks([0.5,1.5,2], ['True', 'False'], va='center', fontsize=14)\n",
        "plt.xticks([0.5,1.5,2], ['True', 'False'], va='center', fontsize=14)\n",
        "ax.set_title(\"Confusion Matrix\")\n",
        "ax.set(xlabel=\"Predicted\", ylabel=\"Actual\");\n",
        "plt.show()"
      ],
      "execution_count": 40,
      "outputs": [
        {
          "output_type": "display_data",
          "data": {
            "image/png": "[encoded data removed]",
            "text/plain": [
              "<Figure size 720x576 with 2 Axes>"
            ]
          },
          "metadata": {
            "tags": [],
            "needs_background": "light"
          }
        }
      ]
    },
    {
      "cell_type": "markdown",
      "metadata": {
        "id": "Hzcvmk8Sa_hl",
        "colab_type": "text"
      },
      "source": [
        "###Features import"
      ]
    },
    {
      "cell_type": "code",
      "metadata": {
        "id": "yHwE26in9tMn",
        "colab_type": "code",
        "colab": {
          "base_uri": "https://localhost:8080/",
          "height": 488
        },
        "outputId": "766d10d4-9575-4ef3-b590-44d77ff90b57"
      },
      "source": [
        "feature_list = ['start_date',\t'month',\t'year',\t'period_of_the_year']\n",
        "feature_imp = pd.Series(clf.feature_importances_,index=feature_list)\n",
        "\n",
        "plt.style.use('fivethirtyeight')\n",
        "x_values = list(range(len(feature_imp)))\n",
        "plt.bar(x_values, feature_imp, orientation = 'vertical')\n",
        "plt.xticks(x_values, feature_list)\n",
        "\n",
        "plt.ylabel('Importance'); plt.xlabel('Feature'); plt.title('Feature Importances')\n",
        "plt.xticks(x_values, feature_list, rotation='15')\n"
      ],
      "execution_count": 41,
      "outputs": [
        {
          "output_type": "execute_result",
          "data": {
            "text/plain": [
              "([<matplotlib.axis.XTick at 0x7f67437357b8>,\n",
              "  <matplotlib.axis.XTick at 0x7f67434894e0>,\n",
              "  <matplotlib.axis.XTick at 0x7f67434e4fd0>,\n",
              "  <matplotlib.axis.XTick at 0x7f674375ab70>],\n",
              " [Text(0, 0, 'start_date'),\n",
              "  Text(0, 0, 'month'),\n",
              "  Text(0, 0, 'year'),\n",
              "  Text(0, 0, 'period_of_the_year')])"
            ]
          },
          "metadata": {
            "tags": []
          },
          "execution_count": 41
        },
        {
          "output_type": "display_data",
          "data": {
            "image/png": "[encoded data removed]",
            "text/plain": [
              "<Figure size 432x288 with 1 Axes>"
            ]
          },
          "metadata": {
            "tags": []
          }
        }
      ]
    },
    {
      "cell_type": "markdown",
      "metadata": {
        "id": "bCOLPD8iev-Y",
        "colab_type": "text"
      },
      "source": [
        "#**Conclusion**\n",
        "\n",
        "##Our best model was a RandomForest that achieved 95% accuracy in our test data set. The best characteristics were the accumulated start_date and month."
      ]
    }
  ]
}